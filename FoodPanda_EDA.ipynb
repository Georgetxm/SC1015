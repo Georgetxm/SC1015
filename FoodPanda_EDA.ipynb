{
 "cells": [
  {
   "cell_type": "code",
<<<<<<< HEAD
   "execution_count": 2,
=======
   "execution_count": 27,
>>>>>>> 38e8d5855a80f5f8e13140b5d78c922aa300c105
   "id": "ddde91aa",
   "metadata": {},
   "outputs": [],
   "source": [
    "import numpy as np\n",
    "import pandas as pd\n",
    "import seaborn as sb\n",
    "import matplotlib.pyplot as plt\n",
    "sb.set()"
   ]
  },
  {
   "cell_type": "code",
<<<<<<< HEAD
   "execution_count": 3,
=======
   "execution_count": 28,
>>>>>>> 38e8d5855a80f5f8e13140b5d78c922aa300c105
   "id": "e69282ae",
   "metadata": {},
   "outputs": [],
   "source": [
    "data = pd.read_csv('train.csv')"
   ]
  },
  {
   "cell_type": "code",
<<<<<<< HEAD
   "execution_count": 4,
=======
   "execution_count": 29,
>>>>>>> 38e8d5855a80f5f8e13140b5d78c922aa300c105
   "id": "e4657851",
   "metadata": {
    "scrolled": true
   },
   "outputs": [
    {
     "data": {
      "text/plain": [
       "(45593, 20)"
      ]
     },
<<<<<<< HEAD
     "execution_count": 4,
=======
     "execution_count": 29,
>>>>>>> 38e8d5855a80f5f8e13140b5d78c922aa300c105
     "metadata": {},
     "output_type": "execute_result"
    }
   ],
   "source": [
    "data.shape"
   ]
  },
  {
   "cell_type": "code",
<<<<<<< HEAD
   "execution_count": 5,
=======
   "execution_count": 30,
>>>>>>> 38e8d5855a80f5f8e13140b5d78c922aa300c105
   "id": "1b2eb408",
   "metadata": {},
   "outputs": [
    {
     "name": "stdout",
     "output_type": "stream",
     "text": [
      "<class 'pandas.core.frame.DataFrame'>\n",
      "RangeIndex: 45593 entries, 0 to 45592\n",
      "Data columns (total 20 columns):\n",
      " #   Column                       Non-Null Count  Dtype  \n",
      "---  ------                       --------------  -----  \n",
      " 0   ID                           45593 non-null  object \n",
      " 1   Delivery_person_ID           45593 non-null  object \n",
      " 2   Delivery_person_Age          45593 non-null  object \n",
      " 3   Delivery_person_Ratings      45593 non-null  object \n",
      " 4   Restaurant_latitude          45593 non-null  float64\n",
      " 5   Restaurant_longitude         45593 non-null  float64\n",
      " 6   Delivery_location_latitude   45593 non-null  float64\n",
      " 7   Delivery_location_longitude  45593 non-null  float64\n",
      " 8   Order_Date                   45593 non-null  object \n",
      " 9   Time_Orderd                  45593 non-null  object \n",
      " 10  Time_Order_picked            45593 non-null  object \n",
      " 11  Weatherconditions            45593 non-null  object \n",
      " 12  Road_traffic_density         45593 non-null  object \n",
      " 13  Vehicle_condition            45593 non-null  int64  \n",
      " 14  Type_of_order                45593 non-null  object \n",
      " 15  Type_of_vehicle              45593 non-null  object \n",
      " 16  multiple_deliveries          45593 non-null  object \n",
      " 17  Festival                     45593 non-null  object \n",
      " 18  City                         45593 non-null  object \n",
      " 19  Time_taken(min)              45593 non-null  object \n",
      "dtypes: float64(4), int64(1), object(15)\n",
      "memory usage: 7.0+ MB\n"
     ]
    }
   ],
   "source": [
    "data.info()"
   ]
  },
  {
   "cell_type": "code",
<<<<<<< HEAD
   "execution_count": 6,
=======
   "execution_count": 31,
   "id": "2a5b42dd",
   "metadata": {},
   "outputs": [
    {
     "data": {
      "text/html": [
       "<div>\n",
       "<style scoped>\n",
       "    .dataframe tbody tr th:only-of-type {\n",
       "        vertical-align: middle;\n",
       "    }\n",
       "\n",
       "    .dataframe tbody tr th {\n",
       "        vertical-align: top;\n",
       "    }\n",
       "\n",
       "    .dataframe thead th {\n",
       "        text-align: right;\n",
       "    }\n",
       "</style>\n",
       "<table border=\"1\" class=\"dataframe\">\n",
       "  <thead>\n",
       "    <tr style=\"text-align: right;\">\n",
       "      <th></th>\n",
       "      <th>ID</th>\n",
       "      <th>Delivery_person_ID</th>\n",
       "      <th>Delivery_person_Age</th>\n",
       "      <th>Delivery_person_Ratings</th>\n",
       "      <th>Restaurant_latitude</th>\n",
       "      <th>Restaurant_longitude</th>\n",
       "      <th>Delivery_location_latitude</th>\n",
       "      <th>Delivery_location_longitude</th>\n",
       "      <th>Order_Date</th>\n",
       "      <th>Time_Orderd</th>\n",
       "      <th>Time_Order_picked</th>\n",
       "      <th>Weatherconditions</th>\n",
       "      <th>Road_traffic_density</th>\n",
       "      <th>Vehicle_condition</th>\n",
       "      <th>Type_of_order</th>\n",
       "      <th>Type_of_vehicle</th>\n",
       "      <th>multiple_deliveries</th>\n",
       "      <th>Festival</th>\n",
       "      <th>City</th>\n",
       "      <th>Time_taken(min)</th>\n",
       "    </tr>\n",
       "  </thead>\n",
       "  <tbody>\n",
       "    <tr>\n",
       "      <th>0</th>\n",
       "      <td>0x4607</td>\n",
       "      <td>INDORES13DEL02</td>\n",
       "      <td>37</td>\n",
       "      <td>4.9</td>\n",
       "      <td>22.745049</td>\n",
       "      <td>75.892471</td>\n",
       "      <td>22.765049</td>\n",
       "      <td>75.912471</td>\n",
       "      <td>19-03-2022</td>\n",
       "      <td>11:30:00</td>\n",
       "      <td>11:45:00</td>\n",
       "      <td>conditions Sunny</td>\n",
       "      <td>High</td>\n",
       "      <td>2</td>\n",
       "      <td>Snack</td>\n",
       "      <td>motorcycle</td>\n",
       "      <td>0</td>\n",
       "      <td>No</td>\n",
       "      <td>Urban</td>\n",
       "      <td>(min) 24</td>\n",
       "    </tr>\n",
       "    <tr>\n",
       "      <th>1</th>\n",
       "      <td>0xb379</td>\n",
       "      <td>BANGRES18DEL02</td>\n",
       "      <td>34</td>\n",
       "      <td>4.5</td>\n",
       "      <td>12.913041</td>\n",
       "      <td>77.683237</td>\n",
       "      <td>13.043041</td>\n",
       "      <td>77.813237</td>\n",
       "      <td>25-03-2022</td>\n",
       "      <td>19:45:00</td>\n",
       "      <td>19:50:00</td>\n",
       "      <td>conditions Stormy</td>\n",
       "      <td>Jam</td>\n",
       "      <td>2</td>\n",
       "      <td>Snack</td>\n",
       "      <td>scooter</td>\n",
       "      <td>1</td>\n",
       "      <td>No</td>\n",
       "      <td>Metropolitian</td>\n",
       "      <td>(min) 33</td>\n",
       "    </tr>\n",
       "    <tr>\n",
       "      <th>2</th>\n",
       "      <td>0x5d6d</td>\n",
       "      <td>BANGRES19DEL01</td>\n",
       "      <td>23</td>\n",
       "      <td>4.4</td>\n",
       "      <td>12.914264</td>\n",
       "      <td>77.678400</td>\n",
       "      <td>12.924264</td>\n",
       "      <td>77.688400</td>\n",
       "      <td>19-03-2022</td>\n",
       "      <td>08:30:00</td>\n",
       "      <td>08:45:00</td>\n",
       "      <td>conditions Sandstorms</td>\n",
       "      <td>Low</td>\n",
       "      <td>0</td>\n",
       "      <td>Drinks</td>\n",
       "      <td>motorcycle</td>\n",
       "      <td>1</td>\n",
       "      <td>No</td>\n",
       "      <td>Urban</td>\n",
       "      <td>(min) 26</td>\n",
       "    </tr>\n",
       "    <tr>\n",
       "      <th>3</th>\n",
       "      <td>0x7a6a</td>\n",
       "      <td>COIMBRES13DEL02</td>\n",
       "      <td>38</td>\n",
       "      <td>4.7</td>\n",
       "      <td>11.003669</td>\n",
       "      <td>76.976494</td>\n",
       "      <td>11.053669</td>\n",
       "      <td>77.026494</td>\n",
       "      <td>05-04-2022</td>\n",
       "      <td>18:00:00</td>\n",
       "      <td>18:10:00</td>\n",
       "      <td>conditions Sunny</td>\n",
       "      <td>Medium</td>\n",
       "      <td>0</td>\n",
       "      <td>Buffet</td>\n",
       "      <td>motorcycle</td>\n",
       "      <td>1</td>\n",
       "      <td>No</td>\n",
       "      <td>Metropolitian</td>\n",
       "      <td>(min) 21</td>\n",
       "    </tr>\n",
       "    <tr>\n",
       "      <th>4</th>\n",
       "      <td>0x70a2</td>\n",
       "      <td>CHENRES12DEL01</td>\n",
       "      <td>32</td>\n",
       "      <td>4.6</td>\n",
       "      <td>12.972793</td>\n",
       "      <td>80.249982</td>\n",
       "      <td>13.012793</td>\n",
       "      <td>80.289982</td>\n",
       "      <td>26-03-2022</td>\n",
       "      <td>13:30:00</td>\n",
       "      <td>13:45:00</td>\n",
       "      <td>conditions Cloudy</td>\n",
       "      <td>High</td>\n",
       "      <td>1</td>\n",
       "      <td>Snack</td>\n",
       "      <td>scooter</td>\n",
       "      <td>1</td>\n",
       "      <td>No</td>\n",
       "      <td>Metropolitian</td>\n",
       "      <td>(min) 30</td>\n",
       "    </tr>\n",
       "  </tbody>\n",
       "</table>\n",
       "</div>"
      ],
      "text/plain": [
       "        ID Delivery_person_ID Delivery_person_Age Delivery_person_Ratings  \\\n",
       "0  0x4607     INDORES13DEL02                   37                     4.9   \n",
       "1  0xb379     BANGRES18DEL02                   34                     4.5   \n",
       "2  0x5d6d     BANGRES19DEL01                   23                     4.4   \n",
       "3  0x7a6a    COIMBRES13DEL02                   38                     4.7   \n",
       "4  0x70a2     CHENRES12DEL01                   32                     4.6   \n",
       "\n",
       "   Restaurant_latitude  Restaurant_longitude  Delivery_location_latitude  \\\n",
       "0            22.745049             75.892471                   22.765049   \n",
       "1            12.913041             77.683237                   13.043041   \n",
       "2            12.914264             77.678400                   12.924264   \n",
       "3            11.003669             76.976494                   11.053669   \n",
       "4            12.972793             80.249982                   13.012793   \n",
       "\n",
       "   Delivery_location_longitude  Order_Date Time_Orderd Time_Order_picked  \\\n",
       "0                    75.912471  19-03-2022    11:30:00          11:45:00   \n",
       "1                    77.813237  25-03-2022    19:45:00          19:50:00   \n",
       "2                    77.688400  19-03-2022    08:30:00          08:45:00   \n",
       "3                    77.026494  05-04-2022    18:00:00          18:10:00   \n",
       "4                    80.289982  26-03-2022    13:30:00          13:45:00   \n",
       "\n",
       "       Weatherconditions Road_traffic_density  Vehicle_condition  \\\n",
       "0       conditions Sunny                High                   2   \n",
       "1      conditions Stormy                 Jam                   2   \n",
       "2  conditions Sandstorms                 Low                   0   \n",
       "3       conditions Sunny              Medium                   0   \n",
       "4      conditions Cloudy                High                   1   \n",
       "\n",
       "  Type_of_order Type_of_vehicle multiple_deliveries Festival            City  \\\n",
       "0        Snack      motorcycle                    0      No           Urban    \n",
       "1        Snack         scooter                    1      No   Metropolitian    \n",
       "2       Drinks      motorcycle                    1      No           Urban    \n",
       "3       Buffet      motorcycle                    1      No   Metropolitian    \n",
       "4        Snack         scooter                    1      No   Metropolitian    \n",
       "\n",
       "  Time_taken(min)  \n",
       "0        (min) 24  \n",
       "1        (min) 33  \n",
       "2        (min) 26  \n",
       "3        (min) 21  \n",
       "4        (min) 30  "
      ]
     },
     "execution_count": 31,
     "metadata": {},
     "output_type": "execute_result"
    }
   ],
   "source": [
    "data.head()"
   ]
  },
  {
   "cell_type": "markdown",
   "id": "d4fc6aa1",
   "metadata": {},
   "source": [
    "# Clean Time Taken"
   ]
  },
  {
   "cell_type": "code",
   "execution_count": 32,
>>>>>>> 38e8d5855a80f5f8e13140b5d78c922aa300c105
   "id": "092ef513",
   "metadata": {},
   "outputs": [
    {
     "data": {
      "text/plain": [
       "1320"
      ]
     },
<<<<<<< HEAD
     "execution_count": 6,
=======
     "execution_count": 32,
>>>>>>> 38e8d5855a80f5f8e13140b5d78c922aa300c105
     "metadata": {},
     "output_type": "execute_result"
    }
   ],
   "source": [
    "data[\"Delivery_person_ID\"].nunique()"
   ]
  },
  {
   "cell_type": "markdown",
   "id": "9e49329f",
   "metadata": {},
   "source": [
    "# Converting Time_taken(min) column to numeric int"
   ]
  },
  {
   "cell_type": "code",
<<<<<<< HEAD
   "execution_count": 7,
=======
   "execution_count": 33,
>>>>>>> 38e8d5855a80f5f8e13140b5d78c922aa300c105
   "id": "2c4be3bf",
   "metadata": {},
   "outputs": [
    {
     "data": {
      "text/plain": [
       "count        45593\n",
       "unique          45\n",
       "top       (min) 26\n",
       "freq          2123\n",
       "Name: Time_taken(min), dtype: object"
      ]
     },
<<<<<<< HEAD
     "execution_count": 7,
=======
     "execution_count": 33,
>>>>>>> 38e8d5855a80f5f8e13140b5d78c922aa300c105
     "metadata": {},
     "output_type": "execute_result"
    }
   ],
   "source": [
    "data[\"Time_taken(min)\"].describe()"
   ]
  },
  {
   "cell_type": "code",
<<<<<<< HEAD
   "execution_count": 8,
=======
   "execution_count": 34,
>>>>>>> 38e8d5855a80f5f8e13140b5d78c922aa300c105
   "id": "d6507d16",
   "metadata": {},
   "outputs": [
    {
     "data": {
      "text/plain": [
       "array(['(min) 24', '(min) 33', '(min) 26', '(min) 21', '(min) 30',\n",
       "       '(min) 40', '(min) 32', '(min) 34', '(min) 46', '(min) 23',\n",
       "       '(min) 20', '(min) 41', '(min) 15', '(min) 36', '(min) 39',\n",
       "       '(min) 18', '(min) 38', '(min) 47', '(min) 12', '(min) 22',\n",
       "       '(min) 25', '(min) 35', '(min) 10', '(min) 19', '(min) 11',\n",
       "       '(min) 28', '(min) 52', '(min) 16', '(min) 27', '(min) 49',\n",
       "       '(min) 17', '(min) 14', '(min) 37', '(min) 44', '(min) 42',\n",
       "       '(min) 31', '(min) 13', '(min) 29', '(min) 50', '(min) 43',\n",
       "       '(min) 48', '(min) 54', '(min) 53', '(min) 45', '(min) 51'],\n",
       "      dtype=object)"
      ]
     },
<<<<<<< HEAD
     "execution_count": 8,
=======
     "execution_count": 34,
>>>>>>> 38e8d5855a80f5f8e13140b5d78c922aa300c105
     "metadata": {},
     "output_type": "execute_result"
    }
   ],
   "source": [
    "data[\"Time_taken(min)\"].unique()"
   ]
  },
  {
   "cell_type": "code",
<<<<<<< HEAD
   "execution_count": 9,
=======
   "execution_count": 35,
>>>>>>> 38e8d5855a80f5f8e13140b5d78c922aa300c105
   "id": "efe6d057",
   "metadata": {},
   "outputs": [],
   "source": [
    "data[\"Time_taken(min)\"] = data[\"Time_taken(min)\"].str.extract('(\\d+)')\n"
   ]
  },
  {
   "cell_type": "code",
<<<<<<< HEAD
   "execution_count": 10,
=======
   "execution_count": 36,
>>>>>>> 38e8d5855a80f5f8e13140b5d78c922aa300c105
   "id": "cd49c063",
   "metadata": {},
   "outputs": [
    {
     "data": {
      "text/plain": [
       "0        24\n",
       "1        33\n",
       "2        26\n",
       "3        21\n",
       "4        30\n",
       "         ..\n",
       "45588    32\n",
       "45589    36\n",
       "45590    16\n",
       "45591    26\n",
       "45592    36\n",
       "Name: Time_taken(min), Length: 45593, dtype: int64"
      ]
     },
<<<<<<< HEAD
     "execution_count": 10,
=======
     "execution_count": 36,
>>>>>>> 38e8d5855a80f5f8e13140b5d78c922aa300c105
     "metadata": {},
     "output_type": "execute_result"
    }
   ],
   "source": [
    "data[\"Time_taken(min)\"] = pd.to_numeric(data[\"Time_taken(min)\"])\n",
    "data[\"Time_taken(min)\"].dropna()\n",
    "data[\"Time_taken(min)\"].astype('int64')"
   ]
  },
  {
   "cell_type": "code",
<<<<<<< HEAD
   "execution_count": 11,
=======
   "execution_count": 37,
>>>>>>> 38e8d5855a80f5f8e13140b5d78c922aa300c105
   "id": "41f56231",
   "metadata": {},
   "outputs": [
    {
     "data": {
      "text/plain": [
       "array([24, 33, 26, 21, 30, 40, 32, 34, 46, 23, 20, 41, 15, 36, 39, 18, 38,\n",
       "       47, 12, 22, 25, 35, 10, 19, 11, 28, 52, 16, 27, 49, 17, 14, 37, 44,\n",
       "       42, 31, 13, 29, 50, 43, 48, 54, 53, 45, 51], dtype=int64)"
      ]
     },
<<<<<<< HEAD
     "execution_count": 11,
=======
     "execution_count": 37,
>>>>>>> 38e8d5855a80f5f8e13140b5d78c922aa300c105
     "metadata": {},
     "output_type": "execute_result"
    }
   ],
   "source": [
    "data[\"Time_taken(min)\"].unique()"
   ]
  },
  {
   "cell_type": "code",
<<<<<<< HEAD
   "execution_count": 12,
=======
   "execution_count": 38,
>>>>>>> 38e8d5855a80f5f8e13140b5d78c922aa300c105
   "id": "efa2aec0",
   "metadata": {},
   "outputs": [
    {
     "data": {
      "text/plain": [
       "0        24\n",
       "1        33\n",
       "2        26\n",
       "3        21\n",
       "4        30\n",
       "         ..\n",
       "45588    32\n",
       "45589    36\n",
       "45590    16\n",
       "45591    26\n",
       "45592    36\n",
       "Name: Time_taken(min), Length: 45593, dtype: int64"
      ]
     },
<<<<<<< HEAD
     "execution_count": 12,
=======
     "execution_count": 38,
>>>>>>> 38e8d5855a80f5f8e13140b5d78c922aa300c105
     "metadata": {},
     "output_type": "execute_result"
    }
   ],
   "source": [
    "data[\"Time_taken(min)\"].dropna()"
   ]
  },
  {
   "cell_type": "code",
<<<<<<< HEAD
   "execution_count": 13,
=======
   "execution_count": 41,
>>>>>>> 38e8d5855a80f5f8e13140b5d78c922aa300c105
   "id": "1d3e67e9",
   "metadata": {},
   "outputs": [
    {
     "data": {
      "text/plain": [
       "45593"
      ]
     },
<<<<<<< HEAD
     "execution_count": 13,
=======
     "execution_count": 41,
>>>>>>> 38e8d5855a80f5f8e13140b5d78c922aa300c105
     "metadata": {},
     "output_type": "execute_result"
    }
   ],
   "source": [
    "data[\"Time_taken(min)\"].count()"
   ]
  },
  {
   "cell_type": "markdown",
   "id": "0087de02",
   "metadata": {},
   "source": [
    "# Clean Delivery Person Age"
   ]
  },
  {
   "cell_type": "code",
   "execution_count": 43,
   "id": "51ff170f",
   "metadata": {},
   "outputs": [
    {
     "data": {
      "text/plain": [
       "array([4.9, 4.5, 4.4, 4.7, 4.6, 4.8, 4.2, 4.3, 4. , 4.1, 5. , 3.5, 3.8,\n",
       "       3.9, 3.7, 2.6, 2.5, 3.6, 3.1, 2.7, 1. , 3.2, 3.3, 6. , 3.4, 2.8,\n",
       "       2.9, 3. ])"
      ]
     },
     "execution_count": 43,
     "metadata": {},
     "output_type": "execute_result"
    }
   ],
   "source": [
    "data = data.drop(trainData[trainData['Delivery_person_Ratings']=='NaN '].index)\n",
    "data = data.astype({'Delivery_person_Ratings':'float64'})\n",
    "data['Delivery_person_Ratings'].unique()"
   ]
  },
  {
   "cell_type": "code",
   "execution_count": 52,
   "id": "55861590",
   "metadata": {},
   "outputs": [
    {
     "data": {
      "text/plain": [
       "<AxesSubplot:xlabel='Delivery_person_Ratings', ylabel='Count'>"
      ]
     },
     "execution_count": 52,
     "metadata": {},
     "output_type": "execute_result"
    },
    {
     "data": {
      "image/png": "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\n",
      "text/plain": [
       "<Figure size 640x480 with 1 Axes>"
      ]
     },
     "metadata": {},
     "output_type": "display_data"
    }
   ],
   "source": [
    "sb.histplot(data = data['Delivery_person_Ratings'])"
   ]
  },
  {
   "cell_type": "markdown",
   "id": "02bc9512",
   "metadata": {},
   "source": [
    "# Clean Delivery Person Ratings"
   ]
  },
  {
   "cell_type": "code",
   "execution_count": 53,
   "id": "69d0d47f",
   "metadata": {},
   "outputs": [
    {
     "data": {
      "text/plain": [
       "array([37, 34, 23, 38, 32, 22, 33, 35, 36, 21, 24, 29, 25, 31, 27, 26, 20,\n",
       "       28, 39, 30, 15, 50], dtype=int64)"
      ]
     },
     "execution_count": 53,
     "metadata": {},
     "output_type": "execute_result"
    }
   ],
   "source": [
    "data[\"Delivery_person_Age\"] = pd.to_numeric(data[\"Delivery_person_Age\"])\n",
    "data[\"Delivery_person_Age\"].astype('int64')\n",
    "data[\"Delivery_person_Age\"].unique()"
   ]
  },
  {
   "cell_type": "code",
   "execution_count": 54,
   "id": "bf965f43",
   "metadata": {},
   "outputs": [
    {
     "data": {
      "text/plain": [
       "<AxesSubplot:xlabel='Delivery_person_Age', ylabel='Count'>"
      ]
     },
     "execution_count": 54,
     "metadata": {},
     "output_type": "execute_result"
    },
    {
     "data": {
      "image/png": "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\n",
      "text/plain": [
       "<Figure size 640x480 with 1 Axes>"
      ]
     },
     "metadata": {},
     "output_type": "display_data"
    }
   ],
   "source": [
    "sb.histplot(data = data[\"Delivery_person_Age\"])"
   ]
  },
  {
   "cell_type": "markdown",
   "id": "e8e0bf48",
   "metadata": {},
   "source": [
    "### Clean Outliers"
   ]
  },
  {
   "cell_type": "code",
   "execution_count": 57,
   "id": "9a56f676",
   "metadata": {},
   "outputs": [],
   "source": [
    "data = data[~(data['Delivery_person_Age'] <= 15)]  "
   ]
  },
  {
   "cell_type": "code",
   "execution_count": 58,
   "id": "f23ff991",
   "metadata": {},
   "outputs": [],
   "source": [
    "data = data[~(data['Delivery_person_Age'] >= 50)]  "
   ]
  },
  {
   "cell_type": "code",
   "execution_count": 59,
   "id": "2b127ffc",
   "metadata": {},
   "outputs": [
    {
     "data": {
      "text/plain": [
       "<AxesSubplot:xlabel='Delivery_person_Age', ylabel='Count'>"
      ]
     },
     "execution_count": 59,
     "metadata": {},
     "output_type": "execute_result"
    },
    {
     "data": {
      "image/png": "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\n",
      "text/plain": [
       "<Figure size 640x480 with 1 Axes>"
      ]
     },
     "metadata": {},
     "output_type": "display_data"
    }
   ],
   "source": [
    "sb.histplot(data = data[\"Delivery_person_Age\"])"
   ]
  },
  {
   "cell_type": "code",
   "execution_count": null,
   "id": "4bcb1680",
   "metadata": {},
   "outputs": [],
   "source": []
  },
  {
   "cell_type": "code",
   "execution_count": null,
   "id": "a977edd1",
   "metadata": {},
   "outputs": [],
   "source": []
  },
  {
   "cell_type": "code",
   "execution_count": null,
   "id": "6287e55f",
   "metadata": {},
   "outputs": [],
   "source": []
  },
  {
   "cell_type": "code",
   "execution_count": null,
   "id": "86999f8d",
   "metadata": {},
   "outputs": [],
   "source": []
  },
  {
   "cell_type": "code",
   "execution_count": null,
   "id": "ad26ec6d",
   "metadata": {},
   "outputs": [],
   "source": []
  },
  {
   "cell_type": "code",
   "execution_count": null,
   "id": "5c0aa8f5",
   "metadata": {},
   "outputs": [],
   "source": []
  },
  {
   "cell_type": "markdown",
   "id": "b7d26391",
   "metadata": {},
   "source": [
    "# Stripping unnecessary string in Weatherconditions column"
   ]
  },
  {
   "cell_type": "code",
<<<<<<< HEAD
   "execution_count": 14,
=======
   "execution_count": 47,
>>>>>>> 38e8d5855a80f5f8e13140b5d78c922aa300c105
   "id": "35e60ab2",
   "metadata": {
    "scrolled": true
   },
   "outputs": [],
   "source": [
    "trainData['Weatherconditions'] = trainData['Weatherconditions'].str.replace(\"conditions\", \"\")"
   ]
  },
  {
   "cell_type": "markdown",
   "id": "914b7869",
   "metadata": {},
   "source": [
    "# No data cleaning required for city column"
   ]
  },
  {
   "cell_type": "code",
   "execution_count": 15,
   "id": "7b27335a",
   "metadata": {},
   "outputs": [
    {
     "name": "stdout",
     "output_type": "stream",
     "text": [
      "Number of City : 4\n",
      "             City  Time_taken(min)\n",
      "0  Metropolitian         27.315226\n",
      "1            NaN         22.058333\n",
      "2     Semi-Urban         49.731707\n",
      "3          Urban         22.984017\n"
     ]
    }
   ],
   "source": [
    "print(\"Number of City :\", len(trainData[\"City\"].unique()))\n",
    "print(trainData.groupby('City', as_index=False)['Time_taken(min)'].mean())"
   ]
  },
  {
   "cell_type": "code",
   "execution_count": 24,
   "id": "16e96fe9",
   "metadata": {},
   "outputs": [
    {
     "data": {
      "text/plain": [
       "<seaborn.axisgrid.FacetGrid at 0x145c01c6760>"
      ]
     },
     "execution_count": 24,
     "metadata": {},
     "output_type": "execute_result"
    },
    {
     "data": {
      "image/png": "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\n",
      "text/plain": [
       "<Figure size 360x360 with 1 Axes>"
      ]
     },
     "metadata": {},
     "output_type": "display_data"
    }
   ],
   "source": [
    "# Count Plot for Legendary Train\n",
    "sb.catplot(y = \"City\", data = trainData, kind = \"count\")"
   ]
  },
  {
   "cell_type": "code",
   "execution_count": 26,
   "id": "36a8401c",
   "metadata": {
    "scrolled": true
   },
   "outputs": [
    {
     "name": "stdout",
     "output_type": "stream",
     "text": [
<<<<<<< HEAD
      "Number of Festivals : 3\n",
      "  Festival  Time_taken(min)\n",
      "0     NaN         11.166667\n",
      "1      No         25.984843\n",
      "2     Yes         45.517857\n"
=======
      "Number of Conditions : 7\n",
      "  Weatherconditions  Time_taken(min)\n",
      "0            Cloudy        28.924419\n",
      "1               Fog        28.936516\n",
      "2               NaN        24.802198\n",
      "3        Sandstorms        25.878005\n",
      "4            Stormy        25.870758\n",
      "5             Sunny        21.852413\n",
      "6             Windy        26.106365\n"
>>>>>>> 38e8d5855a80f5f8e13140b5d78c922aa300c105
     ]
    }
   ],
   "source": [
<<<<<<< HEAD
    "print(\"Number of Festivals :\", len(trainData[\"Festival\"].unique()))\n",
    "print(trainData.groupby('Festival', as_index=False)['Time_taken(min)'].mean())"
   ]
  },
  {
   "cell_type": "markdown",
   "id": "8dd6e743",
   "metadata": {},
   "source": [
    "# Will be omitting the festival column in our models, no need to clean"
   ]
  },
  {
   "cell_type": "code",
   "execution_count": 27,
   "id": "5981ca9d",
=======
    "data['Weatherconditions'] = data['Weatherconditions'].str.replace(\"conditions\", \"\")  \n",
    "print(\"Number of Conditions :\", len(data[\"Weatherconditions\"].unique()))\n",
    "print(data.groupby('Weatherconditions', as_index=False)['Time_taken(min)'].mean())"
   ]
  },
  {
   "cell_type": "code",
   "execution_count": 48,
   "id": "19d20bc8",
>>>>>>> 38e8d5855a80f5f8e13140b5d78c922aa300c105
   "metadata": {},
   "outputs": [
    {
     "data": {
      "text/plain": [
<<<<<<< HEAD
       "<seaborn.axisgrid.FacetGrid at 0x145c01b6550>"
      ]
     },
     "execution_count": 27,
     "metadata": {},
     "output_type": "execute_result"
    },
    {
     "data": {
      "image/png": "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\n",
      "text/plain": [
       "<Figure size 360x360 with 1 Axes>"
      ]
     },
     "metadata": {},
     "output_type": "display_data"
    }
   ],
   "source": [
    "# Count Plot for Legendary Train\n",
    "sb.catplot(y = \"Festival\", data = trainData, kind = \"count\")"
=======
       "<bound method NDFrame.describe of             ID Delivery_person_ID Delivery_person_Age  \\\n",
       "0      0x4607     INDORES13DEL02                   37   \n",
       "1      0xb379     BANGRES18DEL02                   34   \n",
       "2      0x5d6d     BANGRES19DEL01                   23   \n",
       "3      0x7a6a    COIMBRES13DEL02                   38   \n",
       "4      0x70a2     CHENRES12DEL01                   32   \n",
       "...        ...                ...                 ...   \n",
       "45588  0x7c09      JAPRES04DEL01                   30   \n",
       "45589  0xd641      AGRRES16DEL01                   21   \n",
       "45590  0x4f8d     CHENRES08DEL03                   30   \n",
       "45591  0x5eee    COIMBRES11DEL01                   20   \n",
       "45592  0x5fb2   RANCHIRES09DEL02                   23   \n",
       "\n",
       "       Delivery_person_Ratings  Restaurant_latitude  Restaurant_longitude  \\\n",
       "0                          4.9            22.745049             75.892471   \n",
       "1                          4.5            12.913041             77.683237   \n",
       "2                          4.4            12.914264             77.678400   \n",
       "3                          4.7            11.003669             76.976494   \n",
       "4                          4.6            12.972793             80.249982   \n",
       "...                        ...                  ...                   ...   \n",
       "45588                      4.8            26.902328             75.794257   \n",
       "45589                      4.6             0.000000              0.000000   \n",
       "45590                      4.9            13.022394             80.242439   \n",
       "45591                      4.7            11.001753             76.986241   \n",
       "45592                      4.9            23.351058             85.325731   \n",
       "\n",
       "       Delivery_location_latitude  Delivery_location_longitude  Order_Date  \\\n",
       "0                       22.765049                    75.912471  19-03-2022   \n",
       "1                       13.043041                    77.813237  25-03-2022   \n",
       "2                       12.924264                    77.688400  19-03-2022   \n",
       "3                       11.053669                    77.026494  05-04-2022   \n",
       "4                       13.012793                    80.289982  26-03-2022   \n",
       "...                           ...                          ...         ...   \n",
       "45588                   26.912328                    75.804257  24-03-2022   \n",
       "45589                    0.070000                     0.070000  16-02-2022   \n",
       "45590                   13.052394                    80.272439  11-03-2022   \n",
       "45591                   11.041753                    77.026241  07-03-2022   \n",
       "45592                   23.431058                    85.405731  02-03-2022   \n",
       "\n",
       "      Time_Orderd Time_Order_picked Weatherconditions Road_traffic_density  \\\n",
       "0        11:30:00          11:45:00             Sunny                High    \n",
       "1        19:45:00          19:50:00            Stormy                 Jam    \n",
       "2        08:30:00          08:45:00        Sandstorms                 Low    \n",
       "3        18:00:00          18:10:00             Sunny              Medium    \n",
       "4        13:30:00          13:45:00            Cloudy                High    \n",
       "...           ...               ...               ...                  ...   \n",
       "45588    11:35:00          11:45:00             Windy                High    \n",
       "45589    19:55:00          20:10:00             Windy                 Jam    \n",
       "45590    23:50:00          00:05:00            Cloudy                 Low    \n",
       "45591    13:35:00          13:40:00            Cloudy                High    \n",
       "45592    17:10:00          17:15:00               Fog              Medium    \n",
       "\n",
       "       Vehicle_condition Type_of_order Type_of_vehicle multiple_deliveries  \\\n",
       "0                      2        Snack      motorcycle                    0   \n",
       "1                      2        Snack         scooter                    1   \n",
       "2                      0       Drinks      motorcycle                    1   \n",
       "3                      0       Buffet      motorcycle                    1   \n",
       "4                      1        Snack         scooter                    1   \n",
       "...                  ...           ...             ...                 ...   \n",
       "45588                  1         Meal      motorcycle                    0   \n",
       "45589                  0       Buffet      motorcycle                    1   \n",
       "45590                  1       Drinks         scooter                    0   \n",
       "45591                  0        Snack      motorcycle                    1   \n",
       "45592                  2        Snack         scooter                    1   \n",
       "\n",
       "      Festival            City  Time_taken(min)  \n",
       "0          No           Urban                24  \n",
       "1          No   Metropolitian                33  \n",
       "2          No           Urban                26  \n",
       "3          No   Metropolitian                21  \n",
       "4          No   Metropolitian                30  \n",
       "...        ...             ...              ...  \n",
       "45588      No   Metropolitian                32  \n",
       "45589      No   Metropolitian                36  \n",
       "45590      No   Metropolitian                16  \n",
       "45591      No   Metropolitian                26  \n",
       "45592      No   Metropolitian                36  \n",
       "\n",
       "[43685 rows x 20 columns]>"
      ]
     },
     "execution_count": 48,
     "metadata": {},
     "output_type": "execute_result"
    }
   ],
   "source": [
    "data.describe"
>>>>>>> 38e8d5855a80f5f8e13140b5d78c922aa300c105
   ]
  },
  {
   "cell_type": "code",
<<<<<<< HEAD
   "execution_count": 28,
   "id": "5c97a4cc",
=======
   "execution_count": 49,
   "id": "559f4b42",
>>>>>>> 38e8d5855a80f5f8e13140b5d78c922aa300c105
   "metadata": {},
   "outputs": [
    {
     "data": {
<<<<<<< HEAD
      "text/plain": [
       "array(['0', '1', '3', 'NaN ', '2'], dtype=object)"
      ]
     },
     "execution_count": 28,
=======
      "text/html": [
       "<div>\n",
       "<style scoped>\n",
       "    .dataframe tbody tr th:only-of-type {\n",
       "        vertical-align: middle;\n",
       "    }\n",
       "\n",
       "    .dataframe tbody tr th {\n",
       "        vertical-align: top;\n",
       "    }\n",
       "\n",
       "    .dataframe thead th {\n",
       "        text-align: right;\n",
       "    }\n",
       "</style>\n",
       "<table border=\"1\" class=\"dataframe\">\n",
       "  <thead>\n",
       "    <tr style=\"text-align: right;\">\n",
       "      <th></th>\n",
       "      <th>Delivery_person_Ratings</th>\n",
       "      <th>Restaurant_latitude</th>\n",
       "      <th>Restaurant_longitude</th>\n",
       "      <th>Delivery_location_latitude</th>\n",
       "      <th>Delivery_location_longitude</th>\n",
       "      <th>Vehicle_condition</th>\n",
       "      <th>Time_taken(min)</th>\n",
       "    </tr>\n",
       "  </thead>\n",
       "  <tbody>\n",
       "    <tr>\n",
       "      <th>count</th>\n",
       "      <td>43685.000000</td>\n",
       "      <td>43685.000000</td>\n",
       "      <td>43685.000000</td>\n",
       "      <td>43685.000000</td>\n",
       "      <td>43685.000000</td>\n",
       "      <td>43685.000000</td>\n",
       "      <td>43685.000000</td>\n",
       "    </tr>\n",
       "    <tr>\n",
       "      <th>mean</th>\n",
       "      <td>4.633780</td>\n",
       "      <td>17.214543</td>\n",
       "      <td>70.668593</td>\n",
       "      <td>17.458164</td>\n",
       "      <td>70.829376</td>\n",
       "      <td>1.004738</td>\n",
       "      <td>26.289024</td>\n",
       "    </tr>\n",
       "    <tr>\n",
       "      <th>std</th>\n",
       "      <td>0.334716</td>\n",
       "      <td>7.750885</td>\n",
       "      <td>21.459258</td>\n",
       "      <td>7.339296</td>\n",
       "      <td>21.136728</td>\n",
       "      <td>0.820961</td>\n",
       "      <td>9.369354</td>\n",
       "    </tr>\n",
       "    <tr>\n",
       "      <th>min</th>\n",
       "      <td>1.000000</td>\n",
       "      <td>-30.902872</td>\n",
       "      <td>-88.366217</td>\n",
       "      <td>0.010000</td>\n",
       "      <td>0.010000</td>\n",
       "      <td>0.000000</td>\n",
       "      <td>10.000000</td>\n",
       "    </tr>\n",
       "    <tr>\n",
       "      <th>25%</th>\n",
       "      <td>4.500000</td>\n",
       "      <td>12.933298</td>\n",
       "      <td>73.170283</td>\n",
       "      <td>12.985996</td>\n",
       "      <td>73.280000</td>\n",
       "      <td>0.000000</td>\n",
       "      <td>19.000000</td>\n",
       "    </tr>\n",
       "    <tr>\n",
       "      <th>50%</th>\n",
       "      <td>4.700000</td>\n",
       "      <td>18.551440</td>\n",
       "      <td>75.898497</td>\n",
       "      <td>18.633626</td>\n",
       "      <td>76.002574</td>\n",
       "      <td>1.000000</td>\n",
       "      <td>26.000000</td>\n",
       "    </tr>\n",
       "    <tr>\n",
       "      <th>75%</th>\n",
       "      <td>4.900000</td>\n",
       "      <td>22.732225</td>\n",
       "      <td>78.045359</td>\n",
       "      <td>22.785049</td>\n",
       "      <td>78.103162</td>\n",
       "      <td>2.000000</td>\n",
       "      <td>32.000000</td>\n",
       "    </tr>\n",
       "    <tr>\n",
       "      <th>max</th>\n",
       "      <td>6.000000</td>\n",
       "      <td>30.914057</td>\n",
       "      <td>88.433452</td>\n",
       "      <td>31.054057</td>\n",
       "      <td>88.563452</td>\n",
       "      <td>3.000000</td>\n",
       "      <td>54.000000</td>\n",
       "    </tr>\n",
       "  </tbody>\n",
       "</table>\n",
       "</div>"
      ],
      "text/plain": [
       "       Delivery_person_Ratings  Restaurant_latitude  Restaurant_longitude  \\\n",
       "count             43685.000000         43685.000000          43685.000000   \n",
       "mean                  4.633780            17.214543             70.668593   \n",
       "std                   0.334716             7.750885             21.459258   \n",
       "min                   1.000000           -30.902872            -88.366217   \n",
       "25%                   4.500000            12.933298             73.170283   \n",
       "50%                   4.700000            18.551440             75.898497   \n",
       "75%                   4.900000            22.732225             78.045359   \n",
       "max                   6.000000            30.914057             88.433452   \n",
       "\n",
       "       Delivery_location_latitude  Delivery_location_longitude  \\\n",
       "count                43685.000000                 43685.000000   \n",
       "mean                    17.458164                    70.829376   \n",
       "std                      7.339296                    21.136728   \n",
       "min                      0.010000                     0.010000   \n",
       "25%                     12.985996                    73.280000   \n",
       "50%                     18.633626                    76.002574   \n",
       "75%                     22.785049                    78.103162   \n",
       "max                     31.054057                    88.563452   \n",
       "\n",
       "       Vehicle_condition  Time_taken(min)  \n",
       "count       43685.000000     43685.000000  \n",
       "mean            1.004738        26.289024  \n",
       "std             0.820961         9.369354  \n",
       "min             0.000000        10.000000  \n",
       "25%             0.000000        19.000000  \n",
       "50%             1.000000        26.000000  \n",
       "75%             2.000000        32.000000  \n",
       "max             3.000000        54.000000  "
      ]
     },
     "execution_count": 49,
>>>>>>> 38e8d5855a80f5f8e13140b5d78c922aa300c105
     "metadata": {},
     "output_type": "execute_result"
    }
   ],
   "source": [
<<<<<<< HEAD
    "trainData[\"multiple_deliveries\"].unique()"
   ]
  },
  {
   "cell_type": "code",
   "execution_count": 29,
   "id": "15a09d2c",
   "metadata": {},
   "outputs": [
    {
     "data": {
      "text/plain": [
       "<seaborn.axisgrid.FacetGrid at 0x145c0211df0>"
      ]
     },
     "execution_count": 29,
     "metadata": {},
     "output_type": "execute_result"
    },
    {
     "data": {
      "image/png": "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\n",
      "text/plain": [
       "<Figure size 360x360 with 1 Axes>"
      ]
     },
     "metadata": {},
     "output_type": "display_data"
    }
   ],
   "source": [
    "# Count Plot for Legendary Train\n",
    "sb.catplot(y = \"multiple_deliveries\", data = trainData, kind = \"count\")"
   ]
  },
  {
   "cell_type": "markdown",
   "id": "8bfaf999",
   "metadata": {},
   "source": [
    "# Replacing multiple deliveries coumn with the mode (1 in this case)"
   ]
  },
  {
   "cell_type": "code",
   "execution_count": 34,
   "id": "ccf6cc46",
   "metadata": {},
   "outputs": [],
   "source": [
    "trainData[\"multiple_deliveries\"] = trainData[\"multiple_deliveries\"].replace('NaN ', '1')"
   ]
  },
  {
   "cell_type": "code",
   "execution_count": 35,
   "id": "84c9499a",
   "metadata": {},
   "outputs": [
    {
     "data": {
      "text/plain": [
       "<seaborn.axisgrid.FacetGrid at 0x145c52445e0>"
      ]
     },
     "execution_count": 35,
     "metadata": {},
     "output_type": "execute_result"
    },
    {
     "data": {
      "image/png": "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\n",
      "text/plain": [
       "<Figure size 360x360 with 1 Axes>"
      ]
     },
     "metadata": {},
     "output_type": "display_data"
    }
   ],
   "source": [
    "# Count Plot for Legendary Train\n",
    "sb.catplot(y = \"multiple_deliveries\", data = trainData, kind = \"count\")"
=======
    "data.describe()"
>>>>>>> 38e8d5855a80f5f8e13140b5d78c922aa300c105
   ]
  },
  {
   "cell_type": "code",
   "execution_count": null,
<<<<<<< HEAD
   "id": "2e85e394",
=======
   "id": "010d9b22",
   "metadata": {},
   "outputs": [],
   "source": []
  },
  {
   "cell_type": "code",
   "execution_count": null,
   "id": "d5312795",
>>>>>>> 38e8d5855a80f5f8e13140b5d78c922aa300c105
   "metadata": {},
   "outputs": [],
   "source": []
  }
 ],
 "metadata": {
  "kernelspec": {
   "display_name": "Python 3 (ipykernel)",
   "language": "python",
   "name": "python3"
  },
  "language_info": {
   "codemirror_mode": {
    "name": "ipython",
    "version": 3
   },
   "file_extension": ".py",
   "mimetype": "text/x-python",
   "name": "python",
   "nbconvert_exporter": "python",
   "pygments_lexer": "ipython3",
   "version": "3.9.12"
  }
 },
 "nbformat": 4,
 "nbformat_minor": 5
}
