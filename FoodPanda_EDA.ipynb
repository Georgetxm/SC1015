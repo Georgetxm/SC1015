{
 "cells": [
  {
   "cell_type": "code",
   "execution_count": 27,
   "id": "ddde91aa",
   "metadata": {},
   "outputs": [],
   "source": [
    "import numpy as np\n",
    "import pandas as pd\n",
    "import seaborn as sb\n",
    "import matplotlib.pyplot as plt\n",
    "sb.set()"
   ]
  },
  {
   "cell_type": "code",
   "execution_count": 28,
   "id": "e69282ae",
   "metadata": {},
   "outputs": [],
   "source": [
    "data = pd.read_csv('train.csv')"
   ]
  },
  {
   "cell_type": "code",
   "execution_count": 29,
   "id": "e4657851",
   "metadata": {
    "scrolled": true
   },
   "outputs": [
    {
     "data": {
      "text/plain": [
       "(45593, 20)"
      ]
     },
     "execution_count": 29,
     "metadata": {},
     "output_type": "execute_result"
    }
   ],
   "source": [
    "data.shape"
   ]
  },
  {
   "cell_type": "code",
   "execution_count": 30,
   "id": "1b2eb408",
   "metadata": {},
   "outputs": [
    {
     "name": "stdout",
     "output_type": "stream",
     "text": [
      "<class 'pandas.core.frame.DataFrame'>\n",
      "RangeIndex: 45593 entries, 0 to 45592\n",
      "Data columns (total 20 columns):\n",
      " #   Column                       Non-Null Count  Dtype  \n",
      "---  ------                       --------------  -----  \n",
      " 0   ID                           45593 non-null  object \n",
      " 1   Delivery_person_ID           45593 non-null  object \n",
      " 2   Delivery_person_Age          45593 non-null  object \n",
      " 3   Delivery_person_Ratings      45593 non-null  object \n",
      " 4   Restaurant_latitude          45593 non-null  float64\n",
      " 5   Restaurant_longitude         45593 non-null  float64\n",
      " 6   Delivery_location_latitude   45593 non-null  float64\n",
      " 7   Delivery_location_longitude  45593 non-null  float64\n",
      " 8   Order_Date                   45593 non-null  object \n",
      " 9   Time_Orderd                  45593 non-null  object \n",
      " 10  Time_Order_picked            45593 non-null  object \n",
      " 11  Weatherconditions            45593 non-null  object \n",
      " 12  Road_traffic_density         45593 non-null  object \n",
      " 13  Vehicle_condition            45593 non-null  int64  \n",
      " 14  Type_of_order                45593 non-null  object \n",
      " 15  Type_of_vehicle              45593 non-null  object \n",
      " 16  multiple_deliveries          45593 non-null  object \n",
      " 17  Festival                     45593 non-null  object \n",
      " 18  City                         45593 non-null  object \n",
      " 19  Time_taken(min)              45593 non-null  object \n",
      "dtypes: float64(4), int64(1), object(15)\n",
      "memory usage: 7.0+ MB\n"
     ]
    }
   ],
   "source": [
    "data.info()"
   ]
  },
  {
   "cell_type": "code",
   "execution_count": 31,
   "id": "2a5b42dd",
   "metadata": {},
   "outputs": [
    {
     "data": {
      "text/html": [
       "<div>\n",
       "<style scoped>\n",
       "    .dataframe tbody tr th:only-of-type {\n",
       "        vertical-align: middle;\n",
       "    }\n",
       "\n",
       "    .dataframe tbody tr th {\n",
       "        vertical-align: top;\n",
       "    }\n",
       "\n",
       "    .dataframe thead th {\n",
       "        text-align: right;\n",
       "    }\n",
       "</style>\n",
       "<table border=\"1\" class=\"dataframe\">\n",
       "  <thead>\n",
       "    <tr style=\"text-align: right;\">\n",
       "      <th></th>\n",
       "      <th>ID</th>\n",
       "      <th>Delivery_person_ID</th>\n",
       "      <th>Delivery_person_Age</th>\n",
       "      <th>Delivery_person_Ratings</th>\n",
       "      <th>Restaurant_latitude</th>\n",
       "      <th>Restaurant_longitude</th>\n",
       "      <th>Delivery_location_latitude</th>\n",
       "      <th>Delivery_location_longitude</th>\n",
       "      <th>Order_Date</th>\n",
       "      <th>Time_Orderd</th>\n",
       "      <th>Time_Order_picked</th>\n",
       "      <th>Weatherconditions</th>\n",
       "      <th>Road_traffic_density</th>\n",
       "      <th>Vehicle_condition</th>\n",
       "      <th>Type_of_order</th>\n",
       "      <th>Type_of_vehicle</th>\n",
       "      <th>multiple_deliveries</th>\n",
       "      <th>Festival</th>\n",
       "      <th>City</th>\n",
       "      <th>Time_taken(min)</th>\n",
       "    </tr>\n",
       "  </thead>\n",
       "  <tbody>\n",
       "    <tr>\n",
       "      <th>0</th>\n",
       "      <td>0x4607</td>\n",
       "      <td>INDORES13DEL02</td>\n",
       "      <td>37</td>\n",
       "      <td>4.9</td>\n",
       "      <td>22.745049</td>\n",
       "      <td>75.892471</td>\n",
       "      <td>22.765049</td>\n",
       "      <td>75.912471</td>\n",
       "      <td>19-03-2022</td>\n",
       "      <td>11:30:00</td>\n",
       "      <td>11:45:00</td>\n",
       "      <td>conditions Sunny</td>\n",
       "      <td>High</td>\n",
       "      <td>2</td>\n",
       "      <td>Snack</td>\n",
       "      <td>motorcycle</td>\n",
       "      <td>0</td>\n",
       "      <td>No</td>\n",
       "      <td>Urban</td>\n",
       "      <td>(min) 24</td>\n",
       "    </tr>\n",
       "    <tr>\n",
       "      <th>1</th>\n",
       "      <td>0xb379</td>\n",
       "      <td>BANGRES18DEL02</td>\n",
       "      <td>34</td>\n",
       "      <td>4.5</td>\n",
       "      <td>12.913041</td>\n",
       "      <td>77.683237</td>\n",
       "      <td>13.043041</td>\n",
       "      <td>77.813237</td>\n",
       "      <td>25-03-2022</td>\n",
       "      <td>19:45:00</td>\n",
       "      <td>19:50:00</td>\n",
       "      <td>conditions Stormy</td>\n",
       "      <td>Jam</td>\n",
       "      <td>2</td>\n",
       "      <td>Snack</td>\n",
       "      <td>scooter</td>\n",
       "      <td>1</td>\n",
       "      <td>No</td>\n",
       "      <td>Metropolitian</td>\n",
       "      <td>(min) 33</td>\n",
       "    </tr>\n",
       "    <tr>\n",
       "      <th>2</th>\n",
       "      <td>0x5d6d</td>\n",
       "      <td>BANGRES19DEL01</td>\n",
       "      <td>23</td>\n",
       "      <td>4.4</td>\n",
       "      <td>12.914264</td>\n",
       "      <td>77.678400</td>\n",
       "      <td>12.924264</td>\n",
       "      <td>77.688400</td>\n",
       "      <td>19-03-2022</td>\n",
       "      <td>08:30:00</td>\n",
       "      <td>08:45:00</td>\n",
       "      <td>conditions Sandstorms</td>\n",
       "      <td>Low</td>\n",
       "      <td>0</td>\n",
       "      <td>Drinks</td>\n",
       "      <td>motorcycle</td>\n",
       "      <td>1</td>\n",
       "      <td>No</td>\n",
       "      <td>Urban</td>\n",
       "      <td>(min) 26</td>\n",
       "    </tr>\n",
       "    <tr>\n",
       "      <th>3</th>\n",
       "      <td>0x7a6a</td>\n",
       "      <td>COIMBRES13DEL02</td>\n",
       "      <td>38</td>\n",
       "      <td>4.7</td>\n",
       "      <td>11.003669</td>\n",
       "      <td>76.976494</td>\n",
       "      <td>11.053669</td>\n",
       "      <td>77.026494</td>\n",
       "      <td>05-04-2022</td>\n",
       "      <td>18:00:00</td>\n",
       "      <td>18:10:00</td>\n",
       "      <td>conditions Sunny</td>\n",
       "      <td>Medium</td>\n",
       "      <td>0</td>\n",
       "      <td>Buffet</td>\n",
       "      <td>motorcycle</td>\n",
       "      <td>1</td>\n",
       "      <td>No</td>\n",
       "      <td>Metropolitian</td>\n",
       "      <td>(min) 21</td>\n",
       "    </tr>\n",
       "    <tr>\n",
       "      <th>4</th>\n",
       "      <td>0x70a2</td>\n",
       "      <td>CHENRES12DEL01</td>\n",
       "      <td>32</td>\n",
       "      <td>4.6</td>\n",
       "      <td>12.972793</td>\n",
       "      <td>80.249982</td>\n",
       "      <td>13.012793</td>\n",
       "      <td>80.289982</td>\n",
       "      <td>26-03-2022</td>\n",
       "      <td>13:30:00</td>\n",
       "      <td>13:45:00</td>\n",
       "      <td>conditions Cloudy</td>\n",
       "      <td>High</td>\n",
       "      <td>1</td>\n",
       "      <td>Snack</td>\n",
       "      <td>scooter</td>\n",
       "      <td>1</td>\n",
       "      <td>No</td>\n",
       "      <td>Metropolitian</td>\n",
       "      <td>(min) 30</td>\n",
       "    </tr>\n",
       "  </tbody>\n",
       "</table>\n",
       "</div>"
      ],
      "text/plain": [
       "        ID Delivery_person_ID Delivery_person_Age Delivery_person_Ratings  \\\n",
       "0  0x4607     INDORES13DEL02                   37                     4.9   \n",
       "1  0xb379     BANGRES18DEL02                   34                     4.5   \n",
       "2  0x5d6d     BANGRES19DEL01                   23                     4.4   \n",
       "3  0x7a6a    COIMBRES13DEL02                   38                     4.7   \n",
       "4  0x70a2     CHENRES12DEL01                   32                     4.6   \n",
       "\n",
       "   Restaurant_latitude  Restaurant_longitude  Delivery_location_latitude  \\\n",
       "0            22.745049             75.892471                   22.765049   \n",
       "1            12.913041             77.683237                   13.043041   \n",
       "2            12.914264             77.678400                   12.924264   \n",
       "3            11.003669             76.976494                   11.053669   \n",
       "4            12.972793             80.249982                   13.012793   \n",
       "\n",
       "   Delivery_location_longitude  Order_Date Time_Orderd Time_Order_picked  \\\n",
       "0                    75.912471  19-03-2022    11:30:00          11:45:00   \n",
       "1                    77.813237  25-03-2022    19:45:00          19:50:00   \n",
       "2                    77.688400  19-03-2022    08:30:00          08:45:00   \n",
       "3                    77.026494  05-04-2022    18:00:00          18:10:00   \n",
       "4                    80.289982  26-03-2022    13:30:00          13:45:00   \n",
       "\n",
       "       Weatherconditions Road_traffic_density  Vehicle_condition  \\\n",
       "0       conditions Sunny                High                   2   \n",
       "1      conditions Stormy                 Jam                   2   \n",
       "2  conditions Sandstorms                 Low                   0   \n",
       "3       conditions Sunny              Medium                   0   \n",
       "4      conditions Cloudy                High                   1   \n",
       "\n",
       "  Type_of_order Type_of_vehicle multiple_deliveries Festival            City  \\\n",
       "0        Snack      motorcycle                    0      No           Urban    \n",
       "1        Snack         scooter                    1      No   Metropolitian    \n",
       "2       Drinks      motorcycle                    1      No           Urban    \n",
       "3       Buffet      motorcycle                    1      No   Metropolitian    \n",
       "4        Snack         scooter                    1      No   Metropolitian    \n",
       "\n",
       "  Time_taken(min)  \n",
       "0        (min) 24  \n",
       "1        (min) 33  \n",
       "2        (min) 26  \n",
       "3        (min) 21  \n",
       "4        (min) 30  "
      ]
     },
     "execution_count": 31,
     "metadata": {},
     "output_type": "execute_result"
    }
   ],
   "source": [
    "data.head()"
   ]
  },
  {
   "cell_type": "markdown",
   "id": "d4fc6aa1",
   "metadata": {},
   "source": [
    "# Clean Time Taken"
   ]
  },
  {
   "cell_type": "code",
   "execution_count": 32,
   "id": "092ef513",
   "metadata": {},
   "outputs": [
    {
     "data": {
      "text/plain": [
       "1320"
      ]
     },
     "execution_count": 32,
     "metadata": {},
     "output_type": "execute_result"
    }
   ],
   "source": [
    "data[\"Delivery_person_ID\"].nunique()"
   ]
  },
  {
   "cell_type": "code",
   "execution_count": 33,
   "id": "2c4be3bf",
   "metadata": {},
   "outputs": [
    {
     "data": {
      "text/plain": [
       "count        45593\n",
       "unique          45\n",
       "top       (min) 26\n",
       "freq          2123\n",
       "Name: Time_taken(min), dtype: object"
      ]
     },
     "execution_count": 33,
     "metadata": {},
     "output_type": "execute_result"
    }
   ],
   "source": [
    "data[\"Time_taken(min)\"].describe()"
   ]
  },
  {
   "cell_type": "code",
   "execution_count": 34,
   "id": "d6507d16",
   "metadata": {},
   "outputs": [
    {
     "data": {
      "text/plain": [
       "array(['(min) 24', '(min) 33', '(min) 26', '(min) 21', '(min) 30',\n",
       "       '(min) 40', '(min) 32', '(min) 34', '(min) 46', '(min) 23',\n",
       "       '(min) 20', '(min) 41', '(min) 15', '(min) 36', '(min) 39',\n",
       "       '(min) 18', '(min) 38', '(min) 47', '(min) 12', '(min) 22',\n",
       "       '(min) 25', '(min) 35', '(min) 10', '(min) 19', '(min) 11',\n",
       "       '(min) 28', '(min) 52', '(min) 16', '(min) 27', '(min) 49',\n",
       "       '(min) 17', '(min) 14', '(min) 37', '(min) 44', '(min) 42',\n",
       "       '(min) 31', '(min) 13', '(min) 29', '(min) 50', '(min) 43',\n",
       "       '(min) 48', '(min) 54', '(min) 53', '(min) 45', '(min) 51'],\n",
       "      dtype=object)"
      ]
     },
     "execution_count": 34,
     "metadata": {},
     "output_type": "execute_result"
    }
   ],
   "source": [
    "data[\"Time_taken(min)\"].unique()"
   ]
  },
  {
   "cell_type": "code",
   "execution_count": 35,
   "id": "efe6d057",
   "metadata": {},
   "outputs": [],
   "source": [
    "data[\"Time_taken(min)\"] = data[\"Time_taken(min)\"].str.extract('(\\d+)')\n"
   ]
  },
  {
   "cell_type": "code",
   "execution_count": 36,
   "id": "cd49c063",
   "metadata": {},
   "outputs": [
    {
     "data": {
      "text/plain": [
       "0        24\n",
       "1        33\n",
       "2        26\n",
       "3        21\n",
       "4        30\n",
       "         ..\n",
       "45588    32\n",
       "45589    36\n",
       "45590    16\n",
       "45591    26\n",
       "45592    36\n",
       "Name: Time_taken(min), Length: 45593, dtype: int64"
      ]
     },
     "execution_count": 36,
     "metadata": {},
     "output_type": "execute_result"
    }
   ],
   "source": [
    "data[\"Time_taken(min)\"] = pd.to_numeric(data[\"Time_taken(min)\"])\n",
    "data[\"Time_taken(min)\"].dropna()\n",
    "data[\"Time_taken(min)\"].astype('int64')"
   ]
  },
  {
   "cell_type": "code",
   "execution_count": 37,
   "id": "41f56231",
   "metadata": {},
   "outputs": [
    {
     "data": {
      "text/plain": [
       "array([24, 33, 26, 21, 30, 40, 32, 34, 46, 23, 20, 41, 15, 36, 39, 18, 38,\n",
       "       47, 12, 22, 25, 35, 10, 19, 11, 28, 52, 16, 27, 49, 17, 14, 37, 44,\n",
       "       42, 31, 13, 29, 50, 43, 48, 54, 53, 45, 51], dtype=int64)"
      ]
     },
     "execution_count": 37,
     "metadata": {},
     "output_type": "execute_result"
    }
   ],
   "source": [
    "data[\"Time_taken(min)\"].unique()"
   ]
  },
  {
   "cell_type": "code",
   "execution_count": 38,
   "id": "efa2aec0",
   "metadata": {},
   "outputs": [
    {
     "data": {
      "text/plain": [
       "0        24\n",
       "1        33\n",
       "2        26\n",
       "3        21\n",
       "4        30\n",
       "         ..\n",
       "45588    32\n",
       "45589    36\n",
       "45590    16\n",
       "45591    26\n",
       "45592    36\n",
       "Name: Time_taken(min), Length: 45593, dtype: int64"
      ]
     },
     "execution_count": 38,
     "metadata": {},
     "output_type": "execute_result"
    }
   ],
   "source": [
    "data[\"Time_taken(min)\"].dropna()"
   ]
  },
  {
   "cell_type": "code",
   "execution_count": 41,
   "id": "1d3e67e9",
   "metadata": {},
   "outputs": [
    {
     "data": {
      "text/plain": [
       "45593"
      ]
     },
     "execution_count": 41,
     "metadata": {},
     "output_type": "execute_result"
    }
   ],
   "source": [
    "data[\"Time_taken(min)\"].count()"
   ]
  },
  {
   "cell_type": "markdown",
   "id": "0087de02",
   "metadata": {},
   "source": [
    "# Clean Delivery Person Age"
   ]
  },
  {
   "cell_type": "code",
   "execution_count": 43,
   "id": "51ff170f",
   "metadata": {},
   "outputs": [
    {
     "data": {
      "text/plain": [
       "array([4.9, 4.5, 4.4, 4.7, 4.6, 4.8, 4.2, 4.3, 4. , 4.1, 5. , 3.5, 3.8,\n",
       "       3.9, 3.7, 2.6, 2.5, 3.6, 3.1, 2.7, 1. , 3.2, 3.3, 6. , 3.4, 2.8,\n",
       "       2.9, 3. ])"
      ]
     },
     "execution_count": 43,
     "metadata": {},
     "output_type": "execute_result"
    }
   ],
   "source": [
    "data = data.drop(trainData[trainData['Delivery_person_Ratings']=='NaN '].index)\n",
    "data = data.astype({'Delivery_person_Ratings':'float64'})\n",
    "data['Delivery_person_Ratings'].unique()"
   ]
  },
  {
   "cell_type": "code",
   "execution_count": 52,
   "id": "55861590",
   "metadata": {},
   "outputs": [
    {
     "data": {
      "text/plain": [
       "<AxesSubplot:xlabel='Delivery_person_Ratings', ylabel='Count'>"
      ]
     },
     "execution_count": 52,
     "metadata": {},
     "output_type": "execute_result"
    },
    {
     "data": {
      "image/png": "[encoded data removed]",
      "text/plain": [
       "<Figure size 640x480 with 1 Axes>"
      ]
     },
     "metadata": {},
     "output_type": "display_data"
    }
   ],
   "source": [
    "sb.histplot(data = data['Delivery_person_Ratings'])"
   ]
  },
  {
   "cell_type": "markdown",
   "id": "02bc9512",
   "metadata": {},
   "source": [
    "# Clean Delivery Person Ratings"
   ]
  },
  {
   "cell_type": "code",
   "execution_count": 53,
   "id": "69d0d47f",
   "metadata": {},
   "outputs": [
    {
     "data": {
      "text/plain": [
       "array([37, 34, 23, 38, 32, 22, 33, 35, 36, 21, 24, 29, 25, 31, 27, 26, 20,\n",
       "       28, 39, 30, 15, 50], dtype=int64)"
      ]
     },
     "execution_count": 53,
     "metadata": {},
     "output_type": "execute_result"
    }
   ],
   "source": [
    "data[\"Delivery_person_Age\"] = pd.to_numeric(data[\"Delivery_person_Age\"])\n",
    "data[\"Delivery_person_Age\"].astype('int64')\n",
    "data[\"Delivery_person_Age\"].unique()"
   ]
  },
  {
   "cell_type": "code",
   "execution_count": 54,
   "id": "bf965f43",
   "metadata": {},
   "outputs": [
    {
     "data": {
      "text/plain": [
       "<AxesSubplot:xlabel='Delivery_person_Age', ylabel='Count'>"
      ]
     },
     "execution_count": 54,
     "metadata": {},
     "output_type": "execute_result"
    },
    {
     "data": {
      "image/png": "[encoded data removed]",
      "text/plain": [
       "<Figure size 640x480 with 1 Axes>"
      ]
     },
     "metadata": {},
     "output_type": "display_data"
    }
   ],
   "source": [
    "sb.histplot(data = data[\"Delivery_person_Age\"])"
   ]
  },
  {
   "cell_type": "markdown",
   "id": "e8e0bf48",
   "metadata": {},
   "source": [
    "### Clean Outliers"
   ]
  },
  {
   "cell_type": "code",
   "execution_count": 57,
   "id": "9a56f676",
   "metadata": {},
   "outputs": [],
   "source": [
    "data = data[~(data['Delivery_person_Age'] <= 15)]  "
   ]
  },
  {
   "cell_type": "code",
   "execution_count": 58,
   "id": "f23ff991",
   "metadata": {},
   "outputs": [],
   "source": [
    "data = data[~(data['Delivery_person_Age'] >= 50)]  "
   ]
  },
  {
   "cell_type": "code",
   "execution_count": 59,
   "id": "2b127ffc",
   "metadata": {},
   "outputs": [
    {
     "data": {
      "text/plain": [
       "<AxesSubplot:xlabel='Delivery_person_Age', ylabel='Count'>"
      ]
     },
     "execution_count": 59,
     "metadata": {},
     "output_type": "execute_result"
    },
    {
     "data": {
      "image/png": "[encoded data removed]",
      "text/plain": [
       "<Figure size 640x480 with 1 Axes>"
      ]
     },
     "metadata": {},
     "output_type": "display_data"
    }
   ],
   "source": [
    "sb.histplot(data = data[\"Delivery_person_Age\"])"
   ]
  },
  {
   "cell_type": "code",
   "execution_count": null,
   "id": "4bcb1680",
   "metadata": {},
   "outputs": [],
   "source": []
  },
  {
   "cell_type": "code",
   "execution_count": null,
   "id": "a977edd1",
   "metadata": {},
   "outputs": [],
   "source": []
  },
  {
   "cell_type": "code",
   "execution_count": null,
   "id": "6287e55f",
   "metadata": {},
   "outputs": [],
   "source": []
  },
  {
   "cell_type": "code",
   "execution_count": null,
   "id": "86999f8d",
   "metadata": {},
   "outputs": [],
   "source": []
  },
  {
   "cell_type": "code",
   "execution_count": null,
   "id": "ad26ec6d",
   "metadata": {},
   "outputs": [],
   "source": []
  },
  {
   "cell_type": "code",
   "execution_count": null,
   "id": "5c0aa8f5",
   "metadata": {},
   "outputs": [],
   "source": []
  },
  {
   "cell_type": "markdown",
   "id": "b7d26391",
   "metadata": {},
   "source": [
    "# Time Taken agaisnt Weather Condtions"
   ]
  },
  {
   "cell_type": "code",
   "execution_count": 47,
   "id": "35e60ab2",
   "metadata": {
    "scrolled": true
   },
   "outputs": [
    {
     "name": "stdout",
     "output_type": "stream",
     "text": [
      "Number of Conditions : 7\n",
      "  Weatherconditions  Time_taken(min)\n",
      "0            Cloudy        28.924419\n",
      "1               Fog        28.936516\n",
      "2               NaN        24.802198\n",
      "3        Sandstorms        25.878005\n",
      "4            Stormy        25.870758\n",
      "5             Sunny        21.852413\n",
      "6             Windy        26.106365\n"
     ]
    }
   ],
   "source": [
    "data['Weatherconditions'] = data['Weatherconditions'].str.replace(\"conditions\", \"\")  \n",
    "print(\"Number of Conditions :\", len(data[\"Weatherconditions\"].unique()))\n",
    "print(data.groupby('Weatherconditions', as_index=False)['Time_taken(min)'].mean())"
   ]
  },
  {
   "cell_type": "code",
   "execution_count": 48,
   "id": "19d20bc8",
   "metadata": {},
   "outputs": [
    {
     "data": {
      "text/plain": [
       "<bound method NDFrame.describe of             ID Delivery_person_ID Delivery_person_Age  \\\n",
       "0      0x4607     INDORES13DEL02                   37   \n",
       "1      0xb379     BANGRES18DEL02                   34   \n",
       "2      0x5d6d     BANGRES19DEL01                   23   \n",
       "3      0x7a6a    COIMBRES13DEL02                   38   \n",
       "4      0x70a2     CHENRES12DEL01                   32   \n",
       "...        ...                ...                 ...   \n",
       "45588  0x7c09      JAPRES04DEL01                   30   \n",
       "45589  0xd641      AGRRES16DEL01                   21   \n",
       "45590  0x4f8d     CHENRES08DEL03                   30   \n",
       "45591  0x5eee    COIMBRES11DEL01                   20   \n",
       "45592  0x5fb2   RANCHIRES09DEL02                   23   \n",
       "\n",
       "       Delivery_person_Ratings  Restaurant_latitude  Restaurant_longitude  \\\n",
       "0                          4.9            22.745049             75.892471   \n",
       "1                          4.5            12.913041             77.683237   \n",
       "2                          4.4            12.914264             77.678400   \n",
       "3                          4.7            11.003669             76.976494   \n",
       "4                          4.6            12.972793             80.249982   \n",
       "...                        ...                  ...                   ...   \n",
       "45588                      4.8            26.902328             75.794257   \n",
       "45589                      4.6             0.000000              0.000000   \n",
       "45590                      4.9            13.022394             80.242439   \n",
       "45591                      4.7            11.001753             76.986241   \n",
       "45592                      4.9            23.351058             85.325731   \n",
       "\n",
       "       Delivery_location_latitude  Delivery_location_longitude  Order_Date  \\\n",
       "0                       22.765049                    75.912471  19-03-2022   \n",
       "1                       13.043041                    77.813237  25-03-2022   \n",
       "2                       12.924264                    77.688400  19-03-2022   \n",
       "3                       11.053669                    77.026494  05-04-2022   \n",
       "4                       13.012793                    80.289982  26-03-2022   \n",
       "...                           ...                          ...         ...   \n",
       "45588                   26.912328                    75.804257  24-03-2022   \n",
       "45589                    0.070000                     0.070000  16-02-2022   \n",
       "45590                   13.052394                    80.272439  11-03-2022   \n",
       "45591                   11.041753                    77.026241  07-03-2022   \n",
       "45592                   23.431058                    85.405731  02-03-2022   \n",
       "\n",
       "      Time_Orderd Time_Order_picked Weatherconditions Road_traffic_density  \\\n",
       "0        11:30:00          11:45:00             Sunny                High    \n",
       "1        19:45:00          19:50:00            Stormy                 Jam    \n",
       "2        08:30:00          08:45:00        Sandstorms                 Low    \n",
       "3        18:00:00          18:10:00             Sunny              Medium    \n",
       "4        13:30:00          13:45:00            Cloudy                High    \n",
       "...           ...               ...               ...                  ...   \n",
       "45588    11:35:00          11:45:00             Windy                High    \n",
       "45589    19:55:00          20:10:00             Windy                 Jam    \n",
       "45590    23:50:00          00:05:00            Cloudy                 Low    \n",
       "45591    13:35:00          13:40:00            Cloudy                High    \n",
       "45592    17:10:00          17:15:00               Fog              Medium    \n",
       "\n",
       "       Vehicle_condition Type_of_order Type_of_vehicle multiple_deliveries  \\\n",
       "0                      2        Snack      motorcycle                    0   \n",
       "1                      2        Snack         scooter                    1   \n",
       "2                      0       Drinks      motorcycle                    1   \n",
       "3                      0       Buffet      motorcycle                    1   \n",
       "4                      1        Snack         scooter                    1   \n",
       "...                  ...           ...             ...                 ...   \n",
       "45588                  1         Meal      motorcycle                    0   \n",
       "45589                  0       Buffet      motorcycle                    1   \n",
       "45590                  1       Drinks         scooter                    0   \n",
       "45591                  0        Snack      motorcycle                    1   \n",
       "45592                  2        Snack         scooter                    1   \n",
       "\n",
       "      Festival            City  Time_taken(min)  \n",
       "0          No           Urban                24  \n",
       "1          No   Metropolitian                33  \n",
       "2          No           Urban                26  \n",
       "3          No   Metropolitian                21  \n",
       "4          No   Metropolitian                30  \n",
       "...        ...             ...              ...  \n",
       "45588      No   Metropolitian                32  \n",
       "45589      No   Metropolitian                36  \n",
       "45590      No   Metropolitian                16  \n",
       "45591      No   Metropolitian                26  \n",
       "45592      No   Metropolitian                36  \n",
       "\n",
       "[43685 rows x 20 columns]>"
      ]
     },
     "execution_count": 48,
     "metadata": {},
     "output_type": "execute_result"
    }
   ],
   "source": [
    "data.describe"
   ]
  },
  {
   "cell_type": "code",
   "execution_count": 49,
   "id": "559f4b42",
   "metadata": {},
   "outputs": [
    {
     "data": {
      "text/html": [
       "<div>\n",
       "<style scoped>\n",
       "    .dataframe tbody tr th:only-of-type {\n",
       "        vertical-align: middle;\n",
       "    }\n",
       "\n",
       "    .dataframe tbody tr th {\n",
       "        vertical-align: top;\n",
       "    }\n",
       "\n",
       "    .dataframe thead th {\n",
       "        text-align: right;\n",
       "    }\n",
       "</style>\n",
       "<table border=\"1\" class=\"dataframe\">\n",
       "  <thead>\n",
       "    <tr style=\"text-align: right;\">\n",
       "      <th></th>\n",
       "      <th>Delivery_person_Ratings</th>\n",
       "      <th>Restaurant_latitude</th>\n",
       "      <th>Restaurant_longitude</th>\n",
       "      <th>Delivery_location_latitude</th>\n",
       "      <th>Delivery_location_longitude</th>\n",
       "      <th>Vehicle_condition</th>\n",
       "      <th>Time_taken(min)</th>\n",
       "    </tr>\n",
       "  </thead>\n",
       "  <tbody>\n",
       "    <tr>\n",
       "      <th>count</th>\n",
       "      <td>43685.000000</td>\n",
       "      <td>43685.000000</td>\n",
       "      <td>43685.000000</td>\n",
       "      <td>43685.000000</td>\n",
       "      <td>43685.000000</td>\n",
       "      <td>43685.000000</td>\n",
       "      <td>43685.000000</td>\n",
       "    </tr>\n",
       "    <tr>\n",
       "      <th>mean</th>\n",
       "      <td>4.633780</td>\n",
       "      <td>17.214543</td>\n",
       "      <td>70.668593</td>\n",
       "      <td>17.458164</td>\n",
       "      <td>70.829376</td>\n",
       "      <td>1.004738</td>\n",
       "      <td>26.289024</td>\n",
       "    </tr>\n",
       "    <tr>\n",
       "      <th>std</th>\n",
       "      <td>0.334716</td>\n",
       "      <td>7.750885</td>\n",
       "      <td>21.459258</td>\n",
       "      <td>7.339296</td>\n",
       "      <td>21.136728</td>\n",
       "      <td>0.820961</td>\n",
       "      <td>9.369354</td>\n",
       "    </tr>\n",
       "    <tr>\n",
       "      <th>min</th>\n",
       "      <td>1.000000</td>\n",
       "      <td>-30.902872</td>\n",
       "      <td>-88.366217</td>\n",
       "      <td>0.010000</td>\n",
       "      <td>0.010000</td>\n",
       "      <td>0.000000</td>\n",
       "      <td>10.000000</td>\n",
       "    </tr>\n",
       "    <tr>\n",
       "      <th>25%</th>\n",
       "      <td>4.500000</td>\n",
       "      <td>12.933298</td>\n",
       "      <td>73.170283</td>\n",
       "      <td>12.985996</td>\n",
       "      <td>73.280000</td>\n",
       "      <td>0.000000</td>\n",
       "      <td>19.000000</td>\n",
       "    </tr>\n",
       "    <tr>\n",
       "      <th>50%</th>\n",
       "      <td>4.700000</td>\n",
       "      <td>18.551440</td>\n",
       "      <td>75.898497</td>\n",
       "      <td>18.633626</td>\n",
       "      <td>76.002574</td>\n",
       "      <td>1.000000</td>\n",
       "      <td>26.000000</td>\n",
       "    </tr>\n",
       "    <tr>\n",
       "      <th>75%</th>\n",
       "      <td>4.900000</td>\n",
       "      <td>22.732225</td>\n",
       "      <td>78.045359</td>\n",
       "      <td>22.785049</td>\n",
       "      <td>78.103162</td>\n",
       "      <td>2.000000</td>\n",
       "      <td>32.000000</td>\n",
       "    </tr>\n",
       "    <tr>\n",
       "      <th>max</th>\n",
       "      <td>6.000000</td>\n",
       "      <td>30.914057</td>\n",
       "      <td>88.433452</td>\n",
       "      <td>31.054057</td>\n",
       "      <td>88.563452</td>\n",
       "      <td>3.000000</td>\n",
       "      <td>54.000000</td>\n",
       "    </tr>\n",
       "  </tbody>\n",
       "</table>\n",
       "</div>"
      ],
      "text/plain": [
       "       Delivery_person_Ratings  Restaurant_latitude  Restaurant_longitude  \\\n",
       "count             43685.000000         43685.000000          43685.000000   \n",
       "mean                  4.633780            17.214543             70.668593   \n",
       "std                   0.334716             7.750885             21.459258   \n",
       "min                   1.000000           -30.902872            -88.366217   \n",
       "25%                   4.500000            12.933298             73.170283   \n",
       "50%                   4.700000            18.551440             75.898497   \n",
       "75%                   4.900000            22.732225             78.045359   \n",
       "max                   6.000000            30.914057             88.433452   \n",
       "\n",
       "       Delivery_location_latitude  Delivery_location_longitude  \\\n",
       "count                43685.000000                 43685.000000   \n",
       "mean                    17.458164                    70.829376   \n",
       "std                      7.339296                    21.136728   \n",
       "min                      0.010000                     0.010000   \n",
       "25%                     12.985996                    73.280000   \n",
       "50%                     18.633626                    76.002574   \n",
       "75%                     22.785049                    78.103162   \n",
       "max                     31.054057                    88.563452   \n",
       "\n",
       "       Vehicle_condition  Time_taken(min)  \n",
       "count       43685.000000     43685.000000  \n",
       "mean            1.004738        26.289024  \n",
       "std             0.820961         9.369354  \n",
       "min             0.000000        10.000000  \n",
       "25%             0.000000        19.000000  \n",
       "50%             1.000000        26.000000  \n",
       "75%             2.000000        32.000000  \n",
       "max             3.000000        54.000000  "
      ]
     },
     "execution_count": 49,
     "metadata": {},
     "output_type": "execute_result"
    }
   ],
   "source": [
    "data.describe()"
   ]
  },
  {
   "cell_type": "code",
   "execution_count": null,
   "id": "010d9b22",
   "metadata": {},
   "outputs": [],
   "source": []
  },
  {
   "cell_type": "code",
   "execution_count": null,
   "id": "d5312795",
   "metadata": {},
   "outputs": [],
   "source": []
  }
 ],
 "metadata": {
  "kernelspec": {
   "display_name": "Python 3 (ipykernel)",
   "language": "python",
   "name": "python3"
  },
  "language_info": {
   "codemirror_mode": {
    "name": "ipython",
    "version": 3
   },
   "file_extension": ".py",
   "mimetype": "text/x-python",
   "name": "python",
   "nbconvert_exporter": "python",
   "pygments_lexer": "ipython3",
   "version": "3.9.13"
  }
 },
 "nbformat": 4,
 "nbformat_minor": 5
}
