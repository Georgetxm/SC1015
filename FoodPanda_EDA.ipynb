{
 "cells": [
  {
   "cell_type": "code",
   "execution_count": 2,
   "id": "ddde91aa",
   "metadata": {},
   "outputs": [],
   "source": [
    "# Basic Libraries\n",
    "import numpy as np\n",
    "import pandas as pd\n",
    "import seaborn as sb\n",
    "import matplotlib.pyplot as plt # we only need pyplot\n",
    "sb.set() # set the default Seaborn style for graphics"
   ]
  },
  {
   "cell_type": "code",
   "execution_count": 3,
   "id": "e69282ae",
   "metadata": {},
   "outputs": [],
   "source": [
    "trainData = pd.read_csv('train.csv')"
   ]
  },
  {
   "cell_type": "code",
   "execution_count": 4,
   "id": "e4657851",
   "metadata": {},
   "outputs": [
    {
     "data": {
      "text/plain": [
       "(45593, 20)"
      ]
     },
     "execution_count": 4,
     "metadata": {},
     "output_type": "execute_result"
    }
   ],
   "source": [
    "trainData.shape"
   ]
  },
  {
   "cell_type": "code",
   "execution_count": 5,
   "id": "1b2eb408",
   "metadata": {},
   "outputs": [
    {
     "name": "stdout",
     "output_type": "stream",
     "text": [
      "<class 'pandas.core.frame.DataFrame'>\n",
      "RangeIndex: 45593 entries, 0 to 45592\n",
      "Data columns (total 20 columns):\n",
      " #   Column                       Non-Null Count  Dtype  \n",
      "---  ------                       --------------  -----  \n",
      " 0   ID                           45593 non-null  object \n",
      " 1   Delivery_person_ID           45593 non-null  object \n",
      " 2   Delivery_person_Age          45593 non-null  object \n",
      " 3   Delivery_person_Ratings      45593 non-null  object \n",
      " 4   Restaurant_latitude          45593 non-null  float64\n",
      " 5   Restaurant_longitude         45593 non-null  float64\n",
      " 6   Delivery_location_latitude   45593 non-null  float64\n",
      " 7   Delivery_location_longitude  45593 non-null  float64\n",
      " 8   Order_Date                   45593 non-null  object \n",
      " 9   Time_Orderd                  45593 non-null  object \n",
      " 10  Time_Order_picked            45593 non-null  object \n",
      " 11  Weatherconditions            45593 non-null  object \n",
      " 12  Road_traffic_density         45593 non-null  object \n",
      " 13  Vehicle_condition            45593 non-null  int64  \n",
      " 14  Type_of_order                45593 non-null  object \n",
      " 15  Type_of_vehicle              45593 non-null  object \n",
      " 16  multiple_deliveries          45593 non-null  object \n",
      " 17  Festival                     45593 non-null  object \n",
      " 18  City                         45593 non-null  object \n",
      " 19  Time_taken(min)              45593 non-null  object \n",
      "dtypes: float64(4), int64(1), object(15)\n",
      "memory usage: 7.0+ MB\n"
     ]
    }
   ],
   "source": [
    "trainData.info()"
   ]
  },
  {
   "cell_type": "code",
   "execution_count": 6,
   "id": "092ef513",
   "metadata": {},
   "outputs": [
    {
     "data": {
      "text/plain": [
       "1320"
      ]
     },
     "execution_count": 6,
     "metadata": {},
     "output_type": "execute_result"
    }
   ],
   "source": [
    "trainData[\"Delivery_person_ID\"].nunique()"
   ]
  },
  {
   "cell_type": "markdown",
   "id": "9e49329f",
   "metadata": {},
   "source": [
    "# Converting Time_taken(min) column to numeric int"
   ]
  },
  {
   "cell_type": "code",
   "execution_count": 7,
   "id": "2c4be3bf",
   "metadata": {},
   "outputs": [
    {
     "data": {
      "text/plain": [
       "count        45593\n",
       "unique          45\n",
       "top       (min) 26\n",
       "freq          2123\n",
       "Name: Time_taken(min), dtype: object"
      ]
     },
     "execution_count": 7,
     "metadata": {},
     "output_type": "execute_result"
    }
   ],
   "source": [
    "trainData[\"Time_taken(min)\"].describe()"
   ]
  },
  {
   "cell_type": "code",
   "execution_count": 8,
   "id": "d6507d16",
   "metadata": {},
   "outputs": [
    {
     "data": {
      "text/plain": [
       "array(['(min) 24', '(min) 33', '(min) 26', '(min) 21', '(min) 30',\n",
       "       '(min) 40', '(min) 32', '(min) 34', '(min) 46', '(min) 23',\n",
       "       '(min) 20', '(min) 41', '(min) 15', '(min) 36', '(min) 39',\n",
       "       '(min) 18', '(min) 38', '(min) 47', '(min) 12', '(min) 22',\n",
       "       '(min) 25', '(min) 35', '(min) 10', '(min) 19', '(min) 11',\n",
       "       '(min) 28', '(min) 52', '(min) 16', '(min) 27', '(min) 49',\n",
       "       '(min) 17', '(min) 14', '(min) 37', '(min) 44', '(min) 42',\n",
       "       '(min) 31', '(min) 13', '(min) 29', '(min) 50', '(min) 43',\n",
       "       '(min) 48', '(min) 54', '(min) 53', '(min) 45', '(min) 51'],\n",
       "      dtype=object)"
      ]
     },
     "execution_count": 8,
     "metadata": {},
     "output_type": "execute_result"
    }
   ],
   "source": [
    "trainData[\"Time_taken(min)\"].unique()"
   ]
  },
  {
   "cell_type": "code",
   "execution_count": 9,
   "id": "efe6d057",
   "metadata": {},
   "outputs": [],
   "source": [
    "trainData[\"Time_taken(min)\"] = trainData[\"Time_taken(min)\"].str.extract('(\\d+)')\n"
   ]
  },
  {
   "cell_type": "code",
   "execution_count": 10,
   "id": "cd49c063",
   "metadata": {},
   "outputs": [
    {
     "data": {
      "text/plain": [
       "0        24\n",
       "1        33\n",
       "2        26\n",
       "3        21\n",
       "4        30\n",
       "         ..\n",
       "45588    32\n",
       "45589    36\n",
       "45590    16\n",
       "45591    26\n",
       "45592    36\n",
       "Name: Time_taken(min), Length: 45593, dtype: int64"
      ]
     },
     "execution_count": 10,
     "metadata": {},
     "output_type": "execute_result"
    }
   ],
   "source": [
    "trainData[\"Time_taken(min)\"] = pd.to_numeric(trainData[\"Time_taken(min)\"])\n",
    "trainData[\"Time_taken(min)\"].dropna()\n",
    "trainData[\"Time_taken(min)\"].astype('int64')"
   ]
  },
  {
   "cell_type": "code",
   "execution_count": 11,
   "id": "41f56231",
   "metadata": {},
   "outputs": [
    {
     "data": {
      "text/plain": [
       "array([24, 33, 26, 21, 30, 40, 32, 34, 46, 23, 20, 41, 15, 36, 39, 18, 38,\n",
       "       47, 12, 22, 25, 35, 10, 19, 11, 28, 52, 16, 27, 49, 17, 14, 37, 44,\n",
       "       42, 31, 13, 29, 50, 43, 48, 54, 53, 45, 51], dtype=int64)"
      ]
     },
     "execution_count": 11,
     "metadata": {},
     "output_type": "execute_result"
    }
   ],
   "source": [
    "trainData[\"Time_taken(min)\"].unique()"
   ]
  },
  {
   "cell_type": "code",
   "execution_count": 12,
   "id": "efa2aec0",
   "metadata": {},
   "outputs": [
    {
     "data": {
      "text/plain": [
       "0        24\n",
       "1        33\n",
       "2        26\n",
       "3        21\n",
       "4        30\n",
       "         ..\n",
       "45588    32\n",
       "45589    36\n",
       "45590    16\n",
       "45591    26\n",
       "45592    36\n",
       "Name: Time_taken(min), Length: 45593, dtype: int64"
      ]
     },
     "execution_count": 12,
     "metadata": {},
     "output_type": "execute_result"
    }
   ],
   "source": [
    "trainData[\"Time_taken(min)\"].dropna()"
   ]
  },
  {
   "cell_type": "code",
   "execution_count": 13,
   "id": "1d3e67e9",
   "metadata": {},
   "outputs": [
    {
     "data": {
      "text/plain": [
       "45593"
      ]
     },
     "execution_count": 13,
     "metadata": {},
     "output_type": "execute_result"
    }
   ],
   "source": [
    "trainData[\"Time_taken(min)\"].count()"
   ]
  },
  {
   "cell_type": "markdown",
   "id": "b7d26391",
   "metadata": {},
   "source": [
    "# Stripping unnecessary string in Weatherconditions column"
   ]
  },
  {
   "cell_type": "code",
   "execution_count": 14,
   "id": "35e60ab2",
   "metadata": {
    "scrolled": true
   },
   "outputs": [],
   "source": [
    "trainData['Weatherconditions'] = trainData['Weatherconditions'].str.replace(\"conditions\", \"\")"
   ]
  },
  {
   "cell_type": "markdown",
   "id": "914b7869",
   "metadata": {},
   "source": [
    "# No data cleaning required for city column"
   ]
  },
  {
   "cell_type": "code",
   "execution_count": 15,
   "id": "7b27335a",
   "metadata": {},
   "outputs": [
    {
     "name": "stdout",
     "output_type": "stream",
     "text": [
      "Number of City : 4\n",
      "             City  Time_taken(min)\n",
      "0  Metropolitian         27.315226\n",
      "1            NaN         22.058333\n",
      "2     Semi-Urban         49.731707\n",
      "3          Urban         22.984017\n"
     ]
    }
   ],
   "source": [
    "print(\"Number of City :\", len(trainData[\"City\"].unique()))\n",
    "print(trainData.groupby('City', as_index=False)['Time_taken(min)'].mean())"
   ]
  },
  {
   "cell_type": "code",
   "execution_count": 24,
   "id": "16e96fe9",
   "metadata": {},
   "outputs": [
    {
     "data": {
      "text/plain": [
       "<seaborn.axisgrid.FacetGrid at 0x145c01c6760>"
      ]
     },
     "execution_count": 24,
     "metadata": {},
     "output_type": "execute_result"
    },
    {
     "data": {
      "image/png": "[encoded data removed]",
      "text/plain": [
       "<Figure size 360x360 with 1 Axes>"
      ]
     },
     "metadata": {},
     "output_type": "display_data"
    }
   ],
   "source": [
    "# Count Plot for Legendary Train\n",
    "sb.catplot(y = \"City\", data = trainData, kind = \"count\")"
   ]
  },
  {
   "cell_type": "code",
   "execution_count": 26,
   "id": "36a8401c",
   "metadata": {
    "scrolled": true
   },
   "outputs": [
    {
     "name": "stdout",
     "output_type": "stream",
     "text": [
      "Number of Festivals : 3\n",
      "  Festival  Time_taken(min)\n",
      "0     NaN         11.166667\n",
      "1      No         25.984843\n",
      "2     Yes         45.517857\n"
     ]
    }
   ],
   "source": [
    "print(\"Number of Festivals :\", len(trainData[\"Festival\"].unique()))\n",
    "print(trainData.groupby('Festival', as_index=False)['Time_taken(min)'].mean())"
   ]
  },
  {
   "cell_type": "markdown",
   "id": "8dd6e743",
   "metadata": {},
   "source": [
    "# Will be omitting the festival column in our models, no need to clean"
   ]
  },
  {
   "cell_type": "code",
   "execution_count": 27,
   "id": "5981ca9d",
   "metadata": {},
   "outputs": [
    {
     "data": {
      "text/plain": [
       "<seaborn.axisgrid.FacetGrid at 0x145c01b6550>"
      ]
     },
     "execution_count": 27,
     "metadata": {},
     "output_type": "execute_result"
    },
    {
     "data": {
      "image/png": "[encoded data removed]",
      "text/plain": [
       "<Figure size 360x360 with 1 Axes>"
      ]
     },
     "metadata": {},
     "output_type": "display_data"
    }
   ],
   "source": [
    "# Count Plot for Legendary Train\n",
    "sb.catplot(y = \"Festival\", data = trainData, kind = \"count\")"
   ]
  },
  {
   "cell_type": "code",
   "execution_count": 28,
   "id": "5c97a4cc",
   "metadata": {},
   "outputs": [
    {
     "data": {
      "text/plain": [
       "array(['0', '1', '3', 'NaN ', '2'], dtype=object)"
      ]
     },
     "execution_count": 28,
     "metadata": {},
     "output_type": "execute_result"
    }
   ],
   "source": [
    "trainData[\"multiple_deliveries\"].unique()"
   ]
  },
  {
   "cell_type": "code",
   "execution_count": 29,
   "id": "15a09d2c",
   "metadata": {},
   "outputs": [
    {
     "data": {
      "text/plain": [
       "<seaborn.axisgrid.FacetGrid at 0x145c0211df0>"
      ]
     },
     "execution_count": 29,
     "metadata": {},
     "output_type": "execute_result"
    },
    {
     "data": {
      "image/png": "[encoded data removed]",
      "text/plain": [
       "<Figure size 360x360 with 1 Axes>"
      ]
     },
     "metadata": {},
     "output_type": "display_data"
    }
   ],
   "source": [
    "# Count Plot for Legendary Train\n",
    "sb.catplot(y = \"multiple_deliveries\", data = trainData, kind = \"count\")"
   ]
  },
  {
   "cell_type": "markdown",
   "id": "8bfaf999",
   "metadata": {},
   "source": [
    "# Replacing multiple deliveries coumn with the mode (1 in this case)"
   ]
  },
  {
   "cell_type": "code",
   "execution_count": 34,
   "id": "ccf6cc46",
   "metadata": {},
   "outputs": [],
   "source": [
    "trainData[\"multiple_deliveries\"] = trainData[\"multiple_deliveries\"].replace('NaN ', '1')"
   ]
  },
  {
   "cell_type": "code",
   "execution_count": 35,
   "id": "84c9499a",
   "metadata": {},
   "outputs": [
    {
     "data": {
      "text/plain": [
       "<seaborn.axisgrid.FacetGrid at 0x145c52445e0>"
      ]
     },
     "execution_count": 35,
     "metadata": {},
     "output_type": "execute_result"
    },
    {
     "data": {
      "image/png": "[encoded data removed]",
      "text/plain": [
       "<Figure size 360x360 with 1 Axes>"
      ]
     },
     "metadata": {},
     "output_type": "display_data"
    }
   ],
   "source": [
    "# Count Plot for Legendary Train\n",
    "sb.catplot(y = \"multiple_deliveries\", data = trainData, kind = \"count\")"
   ]
  },
  {
   "cell_type": "code",
   "execution_count": null,
   "id": "2e85e394",
   "metadata": {},
   "outputs": [],
   "source": []
  }
 ],
 "metadata": {
  "kernelspec": {
   "display_name": "Python 3 (ipykernel)",
   "language": "python",
   "name": "python3"
  },
  "language_info": {
   "codemirror_mode": {
    "name": "ipython",
    "version": 3
   },
   "file_extension": ".py",
   "mimetype": "text/x-python",
   "name": "python",
   "nbconvert_exporter": "python",
   "pygments_lexer": "ipython3",
   "version": "3.9.12"
  }
 },
 "nbformat": 4,
 "nbformat_minor": 5
}
