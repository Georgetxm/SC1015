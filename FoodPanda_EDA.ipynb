{
 "cells": [
  {
   "cell_type": "code",
   "execution_count": 1,
   "id": "ddde91aa",
   "metadata": {},
   "outputs": [],
   "source": [
    "# Basic Libraries\n",
    "import numpy as np\n",
    "import pandas as pd\n",
    "import seaborn as sb\n",
    "import matplotlib.pyplot as plt # we only need pyplot\n",
    "sb.set() # set the default Seaborn style for graphics"
   ]
  },
  {
   "cell_type": "code",
   "execution_count": 2,
   "id": "e69282ae",
   "metadata": {},
   "outputs": [],
   "source": [
    "trainData = pd.read_csv('train.csv')"
   ]
  },
  {
   "cell_type": "code",
   "execution_count": 3,
   "id": "e4657851",
   "metadata": {},
   "outputs": [
    {
     "data": {
      "text/plain": [
       "(45593, 20)"
      ]
     },
     "execution_count": 3,
     "metadata": {},
     "output_type": "execute_result"
    }
   ],
   "source": [
    "trainData.shape"
   ]
  },
  {
   "cell_type": "code",
   "execution_count": 6,
   "id": "1b2eb408",
   "metadata": {},
   "outputs": [
    {
     "name": "stdout",
     "output_type": "stream",
     "text": [
      "<class 'pandas.core.frame.DataFrame'>\n",
      "RangeIndex: 45593 entries, 0 to 45592\n",
      "Data columns (total 20 columns):\n",
      " #   Column                       Non-Null Count  Dtype  \n",
      "---  ------                       --------------  -----  \n",
      " 0   ID                           45593 non-null  object \n",
      " 1   Delivery_person_ID           45593 non-null  object \n",
      " 2   Delivery_person_Age          45593 non-null  object \n",
      " 3   Delivery_person_Ratings      45593 non-null  object \n",
      " 4   Restaurant_latitude          45593 non-null  float64\n",
      " 5   Restaurant_longitude         45593 non-null  float64\n",
      " 6   Delivery_location_latitude   45593 non-null  float64\n",
      " 7   Delivery_location_longitude  45593 non-null  float64\n",
      " 8   Order_Date                   45593 non-null  object \n",
      " 9   Time_Orderd                  45593 non-null  object \n",
      " 10  Time_Order_picked            45593 non-null  object \n",
      " 11  Weatherconditions            45593 non-null  object \n",
      " 12  Road_traffic_density         45593 non-null  object \n",
      " 13  Vehicle_condition            45593 non-null  int64  \n",
      " 14  Type_of_order                45593 non-null  object \n",
      " 15  Type_of_vehicle              45593 non-null  object \n",
      " 16  multiple_deliveries          45593 non-null  object \n",
      " 17  Festival                     45593 non-null  object \n",
      " 18  City                         45593 non-null  object \n",
      " 19  Time_taken(min)              45593 non-null  object \n",
      "dtypes: float64(4), int64(1), object(15)\n",
      "memory usage: 7.0+ MB\n"
     ]
    }
   ],
   "source": [
    "trainData.info()"
   ]
  },
  {
   "cell_type": "code",
   "execution_count": 7,
   "id": "092ef513",
   "metadata": {},
   "outputs": [
    {
     "data": {
      "text/plain": [
       "1320"
      ]
     },
     "execution_count": 7,
     "metadata": {},
     "output_type": "execute_result"
    }
   ],
   "source": [
    "trainData[\"Delivery_person_ID\"].nunique()"
   ]
  },
  {
   "cell_type": "code",
   "execution_count": 10,
   "id": "2c4be3bf",
   "metadata": {},
   "outputs": [
    {
     "data": {
      "text/plain": [
       "count        45593\n",
       "unique          45\n",
       "top       (min) 26\n",
       "freq          2123\n",
       "Name: Time_taken(min), dtype: object"
      ]
     },
     "execution_count": 10,
     "metadata": {},
     "output_type": "execute_result"
    }
   ],
   "source": [
    "trainData[\"Time_taken(min)\"].describe()"
   ]
  },
  {
   "cell_type": "code",
   "execution_count": 18,
   "id": "d6507d16",
   "metadata": {},
   "outputs": [
    {
     "data": {
      "text/plain": [
       "array([24, 33, 26, 21, 30, 40, 32, 34, 46, 23, 20, 41, 15, 36, 39, 18, 38,\n",
       "       47, 12, 22, 25, 35, 10, 19, 11, 28, 52, 16, 27, 49, 17, 14, 37, 44,\n",
       "       42, 31, 13, 29, 50, 43, 48, 54, 53, 45, 51], dtype=int64)"
      ]
     },
     "execution_count": 18,
     "metadata": {},
     "output_type": "execute_result"
    }
   ],
   "source": [
    "trainData[\"Time_taken(min)\"].unique()"
   ]
  },
  {
   "cell_type": "code",
   "execution_count": null,
   "id": "efe6d057",
   "metadata": {},
   "outputs": [],
   "source": [
    "trainData[\"Time_taken(min)\"] = trainData[\"Time_taken(min)\"].str.extract('(\\d+)')\n"
   ]
  },
  {
   "cell_type": "code",
   "execution_count": 31,
   "id": "cd49c063",
   "metadata": {},
   "outputs": [
    {
     "data": {
      "text/plain": [
       "0        24\n",
       "1        33\n",
       "2        26\n",
       "3        21\n",
       "4        30\n",
       "         ..\n",
       "45588    32\n",
       "45589    36\n",
       "45590    16\n",
       "45591    26\n",
       "45592    36\n",
       "Name: Time_taken(min), Length: 45593, dtype: int64"
      ]
     },
     "execution_count": 31,
     "metadata": {},
     "output_type": "execute_result"
    }
   ],
   "source": [
    "trainData[\"Time_taken(min)\"] = pd.to_numeric(trainData[\"Time_taken(min)\"])\n",
    "trainData[\"Time_taken(min)\"].dropna()\n",
    "trainData[\"Time_taken(min)\"].astype('int64')"
   ]
  },
  {
   "cell_type": "code",
   "execution_count": 21,
   "id": "41f56231",
   "metadata": {},
   "outputs": [
    {
     "data": {
      "text/plain": [
       "array([24, 33, 26, 21, 30, 40, 32, 34, 46, 23, 20, 41, 15, 36, 39, 18, 38,\n",
       "       47, 12, 22, 25, 35, 10, 19, 11, 28, 52, 16, 27, 49, 17, 14, 37, 44,\n",
       "       42, 31, 13, 29, 50, 43, 48, 54, 53, 45, 51], dtype=int64)"
      ]
     },
     "execution_count": 21,
     "metadata": {},
     "output_type": "execute_result"
    }
   ],
   "source": [
    "trainData[\"Time_taken(min)\"].unique()"
   ]
  },
  {
   "cell_type": "code",
   "execution_count": 22,
   "id": "efa2aec0",
   "metadata": {},
   "outputs": [
    {
     "data": {
      "text/plain": [
       "0        24\n",
       "1        33\n",
       "2        26\n",
       "3        21\n",
       "4        30\n",
       "         ..\n",
       "45588    32\n",
       "45589    36\n",
       "45590    16\n",
       "45591    26\n",
       "45592    36\n",
       "Name: Time_taken(min), Length: 45593, dtype: int64"
      ]
     },
     "execution_count": 22,
     "metadata": {},
     "output_type": "execute_result"
    }
   ],
   "source": [
    "trainData[\"Time_taken(min)\"].dropna()"
   ]
  },
  {
   "cell_type": "code",
   "execution_count": 23,
   "id": "1d3e67e9",
   "metadata": {},
   "outputs": [
    {
     "data": {
      "text/plain": [
       "45593"
      ]
     },
     "execution_count": 23,
     "metadata": {},
     "output_type": "execute_result"
    }
   ],
   "source": [
    "trainData[\"Time_taken(min)\"].count()"
   ]
  },
  {
   "cell_type": "markdown",
   "id": "b7d26391",
   "metadata": {},
   "source": [
    "# Time Taken agaisnt Weather Condtions"
   ]
  },
  {
   "cell_type": "code",
   "execution_count": 50,
   "id": "35e60ab2",
   "metadata": {
    "scrolled": true
   },
   "outputs": [
    {
     "name": "stdout",
     "output_type": "stream",
     "text": [
      "Number of Conditions : 7\n",
      "  Weatherconditions  Time_taken(min)\n",
      "0            Cloudy        28.917330\n",
      "1               Fog        28.916122\n",
      "2               NaN        26.545455\n",
      "3        Sandstorms        25.875517\n",
      "4            Stormy        25.870815\n",
      "5             Sunny        21.856947\n",
      "6             Windy        26.118836\n"
     ]
    }
   ],
   "source": [
    "trainData['Weatherconditions'] = trainData['Weatherconditions'].str.replace(\"conditions\", \"\")  \n",
    "# print(\"Number of Conditions :\", len(trainData[\"Weatherconditions\"].unique()))\n",
    "# print(trainData.groupby('Weatherconditions', as_index=False)['Time_taken(min)'].mean())"
   ]
  }
 ],
 "metadata": {
  "kernelspec": {
   "display_name": "Python 3 (ipykernel)",
   "language": "python",
   "name": "python3"
  },
  "language_info": {
   "codemirror_mode": {
    "name": "ipython",
    "version": 3
   },
   "file_extension": ".py",
   "mimetype": "text/x-python",
   "name": "python",
   "nbconvert_exporter": "python",
   "pygments_lexer": "ipython3",
   "version": "3.9.13"
  }
 },
 "nbformat": 4,
 "nbformat_minor": 5
}
